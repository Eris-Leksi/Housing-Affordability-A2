{
 "cells": [
  {
   "cell_type": "markdown",
   "id": "1cef4e56",
   "metadata": {},
   "source": [
    "# AI-Powered Housing Affordability Prototype (With Generative AI)\n",
    "\n",
    "This notebook demonstrates a generative AI-assisted implementation of a housing price prediction and affordability scoring system for Canadian properties. \n",
    "\n",
    "**Features:**\n",
    "- Predict housing prices using ML\n",
    "- Assess affordability based on median income\n",
    "- Incorporate generative AI tools for preprocessing, pipeline generation, and scenario simulation\n",
    "- Visualize results in a user-friendly format\n"
   ]
  },
  {
   "cell_type": "markdown",
   "id": "cb73dbe4",
   "metadata": {},
   "source": [
    "## 1️⃣ Imports & Setup\n",
    "\n",
    "We import all necessary libraries. Generative AI tools like ChatGPT or Copilot can assist in suggesting these imports and pipeline structure.\n"
   ]
  },
  {
   "cell_type": "code",
   "execution_count": 24,
   "id": "34d9dbcd",
   "metadata": {},
   "outputs": [],
   "source": [
    "import pandas as pd\n",
    "import numpy as np\n",
    "import matplotlib.pyplot as plt\n",
    "import seaborn as sns\n",
    "\n",
    "# ML\n",
    "from sklearn.model_selection import train_test_split, RandomizedSearchCV, KFold\n",
    "from sklearn.preprocessing import OneHotEncoder\n",
    "from sklearn.compose import ColumnTransformer\n",
    "from sklearn.pipeline import Pipeline\n",
    "from sklearn.ensemble import RandomForestRegressor\n",
    "from sklearn.metrics import mean_absolute_error, mean_squared_error, r2_score\n",
    "\n"
   ]
  },
  {
   "cell_type": "markdown",
   "id": "2ce1f65d",
   "metadata": {},
   "source": [
    "## 2️⃣ Load Dataset\n",
    "\n",
    "Load the housing dataset (`canadian_housing_data.csv`) and regional income dataset (`median_income.csv`). \n",
    "\n",
    "Generative AI can help generate code to automatically merge datasets and identify key features.\n"
   ]
  },
  {
   "cell_type": "code",
   "execution_count": 25,
   "id": "f9ea11e1",
   "metadata": {},
   "outputs": [
    {
     "data": {
      "application/vnd.microsoft.datawrangler.viewer.v0+json": {
       "columns": [
        {
         "name": "index",
         "rawType": "int64",
         "type": "integer"
        },
        {
         "name": "City",
         "rawType": "object",
         "type": "string"
        },
        {
         "name": "Province",
         "rawType": "object",
         "type": "string"
        },
        {
         "name": "Latitude",
         "rawType": "float64",
         "type": "float"
        },
        {
         "name": "Longitude",
         "rawType": "float64",
         "type": "float"
        },
        {
         "name": "Price",
         "rawType": "float64",
         "type": "float"
        },
        {
         "name": "Bedrooms",
         "rawType": "float64",
         "type": "float"
        },
        {
         "name": "Bathrooms",
         "rawType": "float64",
         "type": "float"
        },
        {
         "name": "Acreage",
         "rawType": "float64",
         "type": "float"
        },
        {
         "name": "Property Type",
         "rawType": "object",
         "type": "string"
        },
        {
         "name": "Square Footage",
         "rawType": "float64",
         "type": "float"
        },
        {
         "name": "Garage",
         "rawType": "object",
         "type": "string"
        },
        {
         "name": "Parking",
         "rawType": "object",
         "type": "string"
        },
        {
         "name": "Basement",
         "rawType": "object",
         "type": "unknown"
        },
        {
         "name": "Exterior",
         "rawType": "object",
         "type": "unknown"
        },
        {
         "name": "Fireplace",
         "rawType": "object",
         "type": "string"
        },
        {
         "name": "Heating",
         "rawType": "object",
         "type": "unknown"
        },
        {
         "name": "Flooring",
         "rawType": "object",
         "type": "unknown"
        },
        {
         "name": "Roof",
         "rawType": "object",
         "type": "unknown"
        },
        {
         "name": "Waterfront",
         "rawType": "object",
         "type": "string"
        },
        {
         "name": "Sewer",
         "rawType": "object",
         "type": "string"
        },
        {
         "name": "Pool",
         "rawType": "object",
         "type": "string"
        },
        {
         "name": "Garden",
         "rawType": "object",
         "type": "string"
        },
        {
         "name": "Balcony",
         "rawType": "object",
         "type": "string"
        },
        {
         "name": "Median_Income",
         "rawType": "float64",
         "type": "float"
        }
       ],
       "ref": "711a1eda-7cc0-4dc0-a812-b49c3b0302f2",
       "rows": [
        [
         "0",
         "Revelstoke",
         "BC",
         "50.9765854",
         "-118.1731491",
         "839000.0",
         "3.0",
         "2.0",
         "0.0",
         "Condo",
         "891.0",
         "Yes",
         "Yes",
         null,
         null,
         "No",
         "heat pump",
         "carpet",
         null,
         "No",
         "municipal",
         "No",
         "No",
         "No",
         null
        ],
        [
         "1",
         "Boswell",
         "BC",
         "49.4718704",
         "-116.770195",
         "1150000.0",
         "3.0",
         "2.0",
         "0.32",
         "Single Family",
         "1881.0",
         "Yes",
         "Yes",
         null,
         null,
         "No",
         "heat pump",
         null,
         null,
         "No",
         "septic",
         "No",
         "No",
         "No",
         null
        ],
        [
         "2",
         "West Kelowna",
         "BC",
         "49.8252302",
         "-119.6032534",
         "149000.0",
         "2.0",
         "1.0",
         "0.0",
         "Single Family",
         "912.0",
         "No",
         "No",
         null,
         "Metal",
         "No",
         null,
         "laminate",
         "tar",
         "No",
         "municipal",
         "No",
         "No",
         "No",
         null
        ],
        [
         "3",
         "Kelowna",
         "BC",
         "49.8218597",
         "-119.4801428",
         "1298000.0",
         "5.0",
         "4.0",
         "0.69",
         "Single Family",
         "4374.0",
         "Yes",
         "No",
         null,
         null,
         "Yes",
         "forced air",
         null,
         null,
         "No",
         "municipal",
         "No",
         "No",
         "No",
         null
        ],
        [
         "4",
         "Maple Ridge",
         "BC",
         "49.2216734",
         "-122.5966374",
         "759900.0",
         "3.0",
         "2.0",
         "0.0",
         "Condo",
         "1254.0",
         "Yes",
         "Yes",
         null,
         null,
         "No",
         "radiant",
         null,
         null,
         "No",
         "none",
         "No",
         "No",
         "No",
         null
        ]
       ],
       "shape": {
        "columns": 24,
        "rows": 5
       }
      },
      "text/html": [
       "<div>\n",
       "<style scoped>\n",
       "    .dataframe tbody tr th:only-of-type {\n",
       "        vertical-align: middle;\n",
       "    }\n",
       "\n",
       "    .dataframe tbody tr th {\n",
       "        vertical-align: top;\n",
       "    }\n",
       "\n",
       "    .dataframe thead th {\n",
       "        text-align: right;\n",
       "    }\n",
       "</style>\n",
       "<table border=\"1\" class=\"dataframe\">\n",
       "  <thead>\n",
       "    <tr style=\"text-align: right;\">\n",
       "      <th></th>\n",
       "      <th>City</th>\n",
       "      <th>Province</th>\n",
       "      <th>Latitude</th>\n",
       "      <th>Longitude</th>\n",
       "      <th>Price</th>\n",
       "      <th>Bedrooms</th>\n",
       "      <th>Bathrooms</th>\n",
       "      <th>Acreage</th>\n",
       "      <th>Property Type</th>\n",
       "      <th>Square Footage</th>\n",
       "      <th>...</th>\n",
       "      <th>Fireplace</th>\n",
       "      <th>Heating</th>\n",
       "      <th>Flooring</th>\n",
       "      <th>Roof</th>\n",
       "      <th>Waterfront</th>\n",
       "      <th>Sewer</th>\n",
       "      <th>Pool</th>\n",
       "      <th>Garden</th>\n",
       "      <th>Balcony</th>\n",
       "      <th>Median_Income</th>\n",
       "    </tr>\n",
       "  </thead>\n",
       "  <tbody>\n",
       "    <tr>\n",
       "      <th>0</th>\n",
       "      <td>Revelstoke</td>\n",
       "      <td>BC</td>\n",
       "      <td>50.976585</td>\n",
       "      <td>-118.173149</td>\n",
       "      <td>839000.0</td>\n",
       "      <td>3.0</td>\n",
       "      <td>2.0</td>\n",
       "      <td>0.00</td>\n",
       "      <td>Condo</td>\n",
       "      <td>891.0</td>\n",
       "      <td>...</td>\n",
       "      <td>No</td>\n",
       "      <td>heat pump</td>\n",
       "      <td>carpet</td>\n",
       "      <td>NaN</td>\n",
       "      <td>No</td>\n",
       "      <td>municipal</td>\n",
       "      <td>No</td>\n",
       "      <td>No</td>\n",
       "      <td>No</td>\n",
       "      <td>NaN</td>\n",
       "    </tr>\n",
       "    <tr>\n",
       "      <th>1</th>\n",
       "      <td>Boswell</td>\n",
       "      <td>BC</td>\n",
       "      <td>49.471870</td>\n",
       "      <td>-116.770195</td>\n",
       "      <td>1150000.0</td>\n",
       "      <td>3.0</td>\n",
       "      <td>2.0</td>\n",
       "      <td>0.32</td>\n",
       "      <td>Single Family</td>\n",
       "      <td>1881.0</td>\n",
       "      <td>...</td>\n",
       "      <td>No</td>\n",
       "      <td>heat pump</td>\n",
       "      <td>NaN</td>\n",
       "      <td>NaN</td>\n",
       "      <td>No</td>\n",
       "      <td>septic</td>\n",
       "      <td>No</td>\n",
       "      <td>No</td>\n",
       "      <td>No</td>\n",
       "      <td>NaN</td>\n",
       "    </tr>\n",
       "    <tr>\n",
       "      <th>2</th>\n",
       "      <td>West Kelowna</td>\n",
       "      <td>BC</td>\n",
       "      <td>49.825230</td>\n",
       "      <td>-119.603253</td>\n",
       "      <td>149000.0</td>\n",
       "      <td>2.0</td>\n",
       "      <td>1.0</td>\n",
       "      <td>0.00</td>\n",
       "      <td>Single Family</td>\n",
       "      <td>912.0</td>\n",
       "      <td>...</td>\n",
       "      <td>No</td>\n",
       "      <td>NaN</td>\n",
       "      <td>laminate</td>\n",
       "      <td>tar</td>\n",
       "      <td>No</td>\n",
       "      <td>municipal</td>\n",
       "      <td>No</td>\n",
       "      <td>No</td>\n",
       "      <td>No</td>\n",
       "      <td>NaN</td>\n",
       "    </tr>\n",
       "    <tr>\n",
       "      <th>3</th>\n",
       "      <td>Kelowna</td>\n",
       "      <td>BC</td>\n",
       "      <td>49.821860</td>\n",
       "      <td>-119.480143</td>\n",
       "      <td>1298000.0</td>\n",
       "      <td>5.0</td>\n",
       "      <td>4.0</td>\n",
       "      <td>0.69</td>\n",
       "      <td>Single Family</td>\n",
       "      <td>4374.0</td>\n",
       "      <td>...</td>\n",
       "      <td>Yes</td>\n",
       "      <td>forced air</td>\n",
       "      <td>NaN</td>\n",
       "      <td>NaN</td>\n",
       "      <td>No</td>\n",
       "      <td>municipal</td>\n",
       "      <td>No</td>\n",
       "      <td>No</td>\n",
       "      <td>No</td>\n",
       "      <td>NaN</td>\n",
       "    </tr>\n",
       "    <tr>\n",
       "      <th>4</th>\n",
       "      <td>Maple Ridge</td>\n",
       "      <td>BC</td>\n",
       "      <td>49.221673</td>\n",
       "      <td>-122.596637</td>\n",
       "      <td>759900.0</td>\n",
       "      <td>3.0</td>\n",
       "      <td>2.0</td>\n",
       "      <td>0.00</td>\n",
       "      <td>Condo</td>\n",
       "      <td>1254.0</td>\n",
       "      <td>...</td>\n",
       "      <td>No</td>\n",
       "      <td>radiant</td>\n",
       "      <td>NaN</td>\n",
       "      <td>NaN</td>\n",
       "      <td>No</td>\n",
       "      <td>none</td>\n",
       "      <td>No</td>\n",
       "      <td>No</td>\n",
       "      <td>No</td>\n",
       "      <td>NaN</td>\n",
       "    </tr>\n",
       "  </tbody>\n",
       "</table>\n",
       "<p>5 rows × 24 columns</p>\n",
       "</div>"
      ],
      "text/plain": [
       "           City Province   Latitude   Longitude      Price  Bedrooms  \\\n",
       "0    Revelstoke       BC  50.976585 -118.173149   839000.0       3.0   \n",
       "1       Boswell       BC  49.471870 -116.770195  1150000.0       3.0   \n",
       "2  West Kelowna       BC  49.825230 -119.603253   149000.0       2.0   \n",
       "3       Kelowna       BC  49.821860 -119.480143  1298000.0       5.0   \n",
       "4   Maple Ridge       BC  49.221673 -122.596637   759900.0       3.0   \n",
       "\n",
       "   Bathrooms  Acreage  Property Type  Square Footage  ... Fireplace  \\\n",
       "0        2.0     0.00          Condo           891.0  ...        No   \n",
       "1        2.0     0.32  Single Family          1881.0  ...        No   \n",
       "2        1.0     0.00  Single Family           912.0  ...        No   \n",
       "3        4.0     0.69  Single Family          4374.0  ...       Yes   \n",
       "4        2.0     0.00          Condo          1254.0  ...        No   \n",
       "\n",
       "      Heating  Flooring Roof Waterfront      Sewer Pool Garden Balcony  \\\n",
       "0   heat pump    carpet  NaN         No  municipal   No     No      No   \n",
       "1   heat pump       NaN  NaN         No     septic   No     No      No   \n",
       "2         NaN  laminate  tar         No  municipal   No     No      No   \n",
       "3  forced air       NaN  NaN         No  municipal   No     No      No   \n",
       "4     radiant       NaN  NaN         No       none   No     No      No   \n",
       "\n",
       "  Median_Income  \n",
       "0           NaN  \n",
       "1           NaN  \n",
       "2           NaN  \n",
       "3           NaN  \n",
       "4           NaN  \n",
       "\n",
       "[5 rows x 24 columns]"
      ]
     },
     "execution_count": 25,
     "metadata": {},
     "output_type": "execute_result"
    }
   ],
   "source": [
    "# Housing dataset\n",
    "housing_df = pd.read_csv(\"canadian_housing_data.csv\")\n",
    "\n",
    "# Median income dictionary\n",
    "median_income = {\n",
    "    \"Toronto\": 90000,\n",
    "    \"Vancouver\": 88000,\n",
    "    \"Montreal\": 82000,\n",
    "    \"Ottawa\": 95000,\n",
    "    \"Calgary\": 97000\n",
    "}\n",
    "\n",
    "# Merge median income\n",
    "housing_df['Median_Income'] = housing_df['City'].map(median_income)\n",
    "\n",
    "housing_df.head()\n"
   ]
  },
  {
   "cell_type": "markdown",
   "id": "d2810210",
   "metadata": {},
   "source": [
    "## 3️⃣ Exploratory Data Analysis (EDA)\n",
    "\n",
    "Visualize distributions and relationships. Generative AI can suggest plots or highlight important correlations.\n"
   ]
  },
  {
   "cell_type": "code",
   "execution_count": 26,
   "id": "ec200e78",
   "metadata": {},
   "outputs": [
    {
     "name": "stdout",
     "output_type": "stream",
     "text": [
      "<class 'pandas.core.frame.DataFrame'>\n",
      "RangeIndex: 44896 entries, 0 to 44895\n",
      "Data columns (total 24 columns):\n",
      " #   Column          Non-Null Count  Dtype  \n",
      "---  ------          --------------  -----  \n",
      " 0   City            44896 non-null  object \n",
      " 1   Province        44896 non-null  object \n",
      " 2   Latitude        44896 non-null  float64\n",
      " 3   Longitude       44896 non-null  float64\n",
      " 4   Price           44896 non-null  float64\n",
      " 5   Bedrooms        44896 non-null  float64\n",
      " 6   Bathrooms       44896 non-null  float64\n",
      " 7   Acreage         44896 non-null  float64\n",
      " 8   Property Type   44896 non-null  object \n",
      " 9   Square Footage  44896 non-null  float64\n",
      " 10  Garage          44896 non-null  object \n",
      " 11  Parking         44896 non-null  object \n",
      " 12  Basement        14962 non-null  object \n",
      " 13  Exterior        17439 non-null  object \n",
      " 14  Fireplace       44896 non-null  object \n",
      " 15  Heating         38242 non-null  object \n",
      " 16  Flooring        15216 non-null  object \n",
      " 17  Roof            10052 non-null  object \n",
      " 18  Waterfront      44896 non-null  object \n",
      " 19  Sewer           44896 non-null  object \n",
      " 20  Pool            44896 non-null  object \n",
      " 21  Garden          44896 non-null  object \n",
      " 22  Balcony         44896 non-null  object \n",
      " 23  Median_Income   6102 non-null   float64\n",
      "dtypes: float64(8), object(16)\n",
      "memory usage: 8.2+ MB\n"
     ]
    },
    {
     "data": {
      "image/png": "[encoded data removed]",
      "text/plain": [
       "<Figure size 640x480 with 1 Axes>"
      ]
     },
     "metadata": {},
     "output_type": "display_data"
    },
    {
     "data": {
      "image/png": "[encoded data removed]",
      "text/plain": [
       "<Figure size 800x400 with 1 Axes>"
      ]
     },
     "metadata": {},
     "output_type": "display_data"
    }
   ],
   "source": [
    "# Quick info\n",
    "housing_df.info()\n",
    "housing_df.describe()\n",
    "\n",
    "# Price distribution\n",
    "sns.histplot(housing_df['Price'], bins=50, kde=True)\n",
    "plt.title(\"Distribution of House Prices\")\n",
    "plt.show()\n",
    "\n",
    "# Price by Property Type\n",
    "plt.figure(figsize=(8,4))\n",
    "sns.boxplot(x='Property Type', y='Price', data=housing_df)\n",
    "plt.xticks(rotation=45)\n",
    "plt.title(\"Price Distribution by Property Type\")\n",
    "plt.show()\n"
   ]
  },
  {
   "cell_type": "markdown",
   "id": "f9fa54b2",
   "metadata": {},
   "source": [
    "## 4️⃣ Data Cleaning & Feature Engineering\n",
    "\n",
    "Generative AI tools can suggest how to handle missing values, encode categorical features, and create new features.\n"
   ]
  },
  {
   "cell_type": "code",
   "execution_count": 27,
   "id": "dcd35aa5",
   "metadata": {},
   "outputs": [
    {
     "name": "stderr",
     "output_type": "stream",
     "text": [
      "C:\\Users\\User\\AppData\\Local\\Temp\\ipykernel_24144\\349944757.py:2: FutureWarning: A value is trying to be set on a copy of a DataFrame or Series through chained assignment using an inplace method.\n",
      "The behavior will change in pandas 3.0. This inplace method will never work because the intermediate object on which we are setting values always behaves as a copy.\n",
      "\n",
      "For example, when doing 'df[col].method(value, inplace=True)', try using 'df.method({col: value}, inplace=True)' or df[col] = df[col].method(value) instead, to perform the operation inplace on the original object.\n",
      "\n",
      "\n",
      "  housing_df['Price'].fillna(housing_df['Price'].median(), inplace=True)\n",
      "C:\\Users\\User\\AppData\\Local\\Temp\\ipykernel_24144\\349944757.py:3: FutureWarning: A value is trying to be set on a copy of a DataFrame or Series through chained assignment using an inplace method.\n",
      "The behavior will change in pandas 3.0. This inplace method will never work because the intermediate object on which we are setting values always behaves as a copy.\n",
      "\n",
      "For example, when doing 'df[col].method(value, inplace=True)', try using 'df.method({col: value}, inplace=True)' or df[col] = df[col].method(value) instead, to perform the operation inplace on the original object.\n",
      "\n",
      "\n",
      "  housing_df['Bedrooms'].fillna(housing_df['Bedrooms'].median(), inplace=True)\n",
      "C:\\Users\\User\\AppData\\Local\\Temp\\ipykernel_24144\\349944757.py:4: FutureWarning: A value is trying to be set on a copy of a DataFrame or Series through chained assignment using an inplace method.\n",
      "The behavior will change in pandas 3.0. This inplace method will never work because the intermediate object on which we are setting values always behaves as a copy.\n",
      "\n",
      "For example, when doing 'df[col].method(value, inplace=True)', try using 'df.method({col: value}, inplace=True)' or df[col] = df[col].method(value) instead, to perform the operation inplace on the original object.\n",
      "\n",
      "\n",
      "  housing_df['Bathrooms'].fillna(housing_df['Bathrooms'].median(), inplace=True)\n",
      "C:\\Users\\User\\AppData\\Local\\Temp\\ipykernel_24144\\349944757.py:5: FutureWarning: A value is trying to be set on a copy of a DataFrame or Series through chained assignment using an inplace method.\n",
      "The behavior will change in pandas 3.0. This inplace method will never work because the intermediate object on which we are setting values always behaves as a copy.\n",
      "\n",
      "For example, when doing 'df[col].method(value, inplace=True)', try using 'df.method({col: value}, inplace=True)' or df[col] = df[col].method(value) instead, to perform the operation inplace on the original object.\n",
      "\n",
      "\n",
      "  housing_df['Acreage'].fillna(housing_df['Acreage'].median(), inplace=True)\n",
      "C:\\Users\\User\\AppData\\Local\\Temp\\ipykernel_24144\\349944757.py:6: FutureWarning: A value is trying to be set on a copy of a DataFrame or Series through chained assignment using an inplace method.\n",
      "The behavior will change in pandas 3.0. This inplace method will never work because the intermediate object on which we are setting values always behaves as a copy.\n",
      "\n",
      "For example, when doing 'df[col].method(value, inplace=True)', try using 'df.method({col: value}, inplace=True)' or df[col] = df[col].method(value) instead, to perform the operation inplace on the original object.\n",
      "\n",
      "\n",
      "  housing_df['Square Footage'].fillna(housing_df['Square Footage'].median(), inplace=True)\n",
      "C:\\Users\\User\\AppData\\Local\\Temp\\ipykernel_24144\\349944757.py:7: FutureWarning: A value is trying to be set on a copy of a DataFrame or Series through chained assignment using an inplace method.\n",
      "The behavior will change in pandas 3.0. This inplace method will never work because the intermediate object on which we are setting values always behaves as a copy.\n",
      "\n",
      "For example, when doing 'df[col].method(value, inplace=True)', try using 'df.method({col: value}, inplace=True)' or df[col] = df[col].method(value) instead, to perform the operation inplace on the original object.\n",
      "\n",
      "\n",
      "  housing_df['Property Type'].fillna('Unknown', inplace=True)\n",
      "C:\\Users\\User\\AppData\\Local\\Temp\\ipykernel_24144\\349944757.py:8: FutureWarning: A value is trying to be set on a copy of a DataFrame or Series through chained assignment using an inplace method.\n",
      "The behavior will change in pandas 3.0. This inplace method will never work because the intermediate object on which we are setting values always behaves as a copy.\n",
      "\n",
      "For example, when doing 'df[col].method(value, inplace=True)', try using 'df.method({col: value}, inplace=True)' or df[col] = df[col].method(value) instead, to perform the operation inplace on the original object.\n",
      "\n",
      "\n",
      "  housing_df['City'].fillna('Unknown', inplace=True)\n",
      "C:\\Users\\User\\AppData\\Local\\Temp\\ipykernel_24144\\349944757.py:9: FutureWarning: A value is trying to be set on a copy of a DataFrame or Series through chained assignment using an inplace method.\n",
      "The behavior will change in pandas 3.0. This inplace method will never work because the intermediate object on which we are setting values always behaves as a copy.\n",
      "\n",
      "For example, when doing 'df[col].method(value, inplace=True)', try using 'df.method({col: value}, inplace=True)' or df[col] = df[col].method(value) instead, to perform the operation inplace on the original object.\n",
      "\n",
      "\n",
      "  housing_df['Province'].fillna('Unknown', inplace=True)\n"
     ]
    }
   ],
   "source": [
    "# Fill missing values\n",
    "housing_df['Price'].fillna(housing_df['Price'].median(), inplace=True)\n",
    "housing_df['Bedrooms'].fillna(housing_df['Bedrooms'].median(), inplace=True)\n",
    "housing_df['Bathrooms'].fillna(housing_df['Bathrooms'].median(), inplace=True)\n",
    "housing_df['Acreage'].fillna(housing_df['Acreage'].median(), inplace=True)\n",
    "housing_df['Square Footage'].fillna(housing_df['Square Footage'].median(), inplace=True)\n",
    "housing_df['Property Type'].fillna('Unknown', inplace=True)\n",
    "housing_df['City'].fillna('Unknown', inplace=True)\n",
    "housing_df['Province'].fillna('Unknown', inplace=True)\n",
    "\n",
    "# Feature engineering\n",
    "housing_df['Price_per_sqft'] = housing_df['Price'] / housing_df['Square Footage']\n",
    "housing_df['Bed_Bath_Ratio'] = housing_df['Bedrooms'] / (housing_df['Bathrooms'] + 1e-5)\n"
   ]
  },
  {
   "cell_type": "markdown",
   "id": "e1c1a0b3",
   "metadata": {},
   "source": [
    "## 5️⃣ Train/Validation/Test Split (80/10/10)\n",
    "\n",
    "We split the data into training, validation, and test sets. Generative AI can suggest best practices for splitting.\n"
   ]
  },
  {
   "cell_type": "code",
   "execution_count": 28,
   "id": "54f1cce5",
   "metadata": {},
   "outputs": [
    {
     "name": "stdout",
     "output_type": "stream",
     "text": [
      "Train: (35916, 11), Val: (4490, 11), Test: (4490, 11)\n"
     ]
    }
   ],
   "source": [
    "features = ['City', 'Province', 'Property Type', 'Latitude', 'Longitude',\n",
    "            'Bedrooms', 'Bathrooms', 'Acreage', 'Square Footage',\n",
    "            'Price_per_sqft', 'Bed_Bath_Ratio']\n",
    "target = 'Price'\n",
    "\n",
    "# Train/temp split\n",
    "X_train, X_temp, y_train, y_temp = train_test_split(housing_df[features], housing_df[target], test_size=0.2)\n",
    "\n",
    "# Validation/test split\n",
    "X_val, X_test, y_val, y_test = train_test_split(X_temp, y_temp, test_size=0.5)\n",
    "\n",
    "print(f\"Train: {X_train.shape}, Val: {X_val.shape}, Test: {X_test.shape}\")\n"
   ]
  },
  {
   "cell_type": "markdown",
   "id": "010218ef",
   "metadata": {},
   "source": [
    "## 6️⃣ Preprocessing & Model Pipeline\n",
    "\n",
    "Generative AI can generate pipelines automatically with correct preprocessing and ML models.\n"
   ]
  },
  {
   "cell_type": "code",
   "execution_count": 29,
   "id": "9c34c892",
   "metadata": {},
   "outputs": [],
   "source": [
    "categorical_features = ['City', 'Province', 'Property Type']\n",
    "numeric_features = ['Latitude', 'Longitude', 'Bedrooms', 'Bathrooms', 'Acreage', 'Square Footage', 'Price_per_sqft', 'Bed_Bath_Ratio']\n",
    "\n",
    "# Column Transformer\n",
    "preprocessor = ColumnTransformer([\n",
    "    ('cat', OneHotEncoder(handle_unknown='ignore'), categorical_features)\n",
    "], remainder='passthrough')\n",
    "\n",
    "# Pipeline with RandomizedSearchCV\n",
    "rf = RandomForestRegressor(random_state=42)\n",
    "pipeline = Pipeline([\n",
    "    ('preprocessor', preprocessor),\n",
    "    ('regressor', rf)\n",
    "])\n",
    "\n",
    "# Hyperparameter grid\n",
    "param_dist = {\n",
    "    'regressor__n_estimators': [100, 150, 200],\n",
    "    'regressor__max_depth': [8, 12, 16, None],\n",
    "    'regressor__min_samples_split': [2, 5, 10],\n",
    "    'regressor__min_samples_leaf': [1, 2, 4]\n",
    "}\n",
    "\n",
    "# RandomizedSearchCV\n",
    "cv = KFold(n_splits=5, shuffle=True, random_state=42)\n",
    "search = RandomizedSearchCV(pipeline, param_dist, n_iter=10, cv=cv, scoring='neg_mean_absolute_error', n_jobs=-1, random_state=42)\n"
   ]
  },
  {
   "cell_type": "markdown",
   "id": "532d4c44",
   "metadata": {},
   "source": [
    "## 7️⃣ Train Model & Validate\n",
    "\n",
    "Train the model on the training set and evaluate on the validation set. Generative AI can suggest evaluation metrics and visualization code.\n"
   ]
  },
  {
   "cell_type": "code",
   "execution_count": 30,
   "id": "19a8c48f",
   "metadata": {},
   "outputs": [
    {
     "ename": "KeyboardInterrupt",
     "evalue": "",
     "output_type": "error",
     "traceback": [
      "\u001b[1;31m---------------------------------------------------------------------------\u001b[0m",
      "\u001b[1;31mKeyboardInterrupt\u001b[0m                         Traceback (most recent call last)",
      "Cell \u001b[1;32mIn[30], line 1\u001b[0m\n\u001b[1;32m----> 1\u001b[0m \u001b[43msearch\u001b[49m\u001b[38;5;241;43m.\u001b[39;49m\u001b[43mfit\u001b[49m\u001b[43m(\u001b[49m\u001b[43mX_train\u001b[49m\u001b[43m,\u001b[49m\u001b[43m \u001b[49m\u001b[43my_train\u001b[49m\u001b[43m)\u001b[49m\n\u001b[0;32m      2\u001b[0m best_model \u001b[38;5;241m=\u001b[39m search\u001b[38;5;241m.\u001b[39mbest_estimator_\n\u001b[0;32m      3\u001b[0m \u001b[38;5;28mprint\u001b[39m(\u001b[38;5;124m\"\u001b[39m\u001b[38;5;124mBest Parameters:\u001b[39m\u001b[38;5;124m\"\u001b[39m, search\u001b[38;5;241m.\u001b[39mbest_params_)\n",
      "File \u001b[1;32mc:\\Users\\User\\AppData\\Local\\Programs\\Python\\Python312\\Lib\\site-packages\\sklearn\\base.py:1389\u001b[0m, in \u001b[0;36m_fit_context.<locals>.decorator.<locals>.wrapper\u001b[1;34m(estimator, *args, **kwargs)\u001b[0m\n\u001b[0;32m   1382\u001b[0m     estimator\u001b[38;5;241m.\u001b[39m_validate_params()\n\u001b[0;32m   1384\u001b[0m \u001b[38;5;28;01mwith\u001b[39;00m config_context(\n\u001b[0;32m   1385\u001b[0m     skip_parameter_validation\u001b[38;5;241m=\u001b[39m(\n\u001b[0;32m   1386\u001b[0m         prefer_skip_nested_validation \u001b[38;5;129;01mor\u001b[39;00m global_skip_validation\n\u001b[0;32m   1387\u001b[0m     )\n\u001b[0;32m   1388\u001b[0m ):\n\u001b[1;32m-> 1389\u001b[0m     \u001b[38;5;28;01mreturn\u001b[39;00m \u001b[43mfit_method\u001b[49m\u001b[43m(\u001b[49m\u001b[43mestimator\u001b[49m\u001b[43m,\u001b[49m\u001b[43m \u001b[49m\u001b[38;5;241;43m*\u001b[39;49m\u001b[43margs\u001b[49m\u001b[43m,\u001b[49m\u001b[43m \u001b[49m\u001b[38;5;241;43m*\u001b[39;49m\u001b[38;5;241;43m*\u001b[39;49m\u001b[43mkwargs\u001b[49m\u001b[43m)\u001b[49m\n",
      "File \u001b[1;32mc:\\Users\\User\\AppData\\Local\\Programs\\Python\\Python312\\Lib\\site-packages\\sklearn\\model_selection\\_search.py:1024\u001b[0m, in \u001b[0;36mBaseSearchCV.fit\u001b[1;34m(self, X, y, **params)\u001b[0m\n\u001b[0;32m   1018\u001b[0m     results \u001b[38;5;241m=\u001b[39m \u001b[38;5;28mself\u001b[39m\u001b[38;5;241m.\u001b[39m_format_results(\n\u001b[0;32m   1019\u001b[0m         all_candidate_params, n_splits, all_out, all_more_results\n\u001b[0;32m   1020\u001b[0m     )\n\u001b[0;32m   1022\u001b[0m     \u001b[38;5;28;01mreturn\u001b[39;00m results\n\u001b[1;32m-> 1024\u001b[0m \u001b[38;5;28;43mself\u001b[39;49m\u001b[38;5;241;43m.\u001b[39;49m\u001b[43m_run_search\u001b[49m\u001b[43m(\u001b[49m\u001b[43mevaluate_candidates\u001b[49m\u001b[43m)\u001b[49m\n\u001b[0;32m   1026\u001b[0m \u001b[38;5;66;03m# multimetric is determined here because in the case of a callable\u001b[39;00m\n\u001b[0;32m   1027\u001b[0m \u001b[38;5;66;03m# self.scoring the return type is only known after calling\u001b[39;00m\n\u001b[0;32m   1028\u001b[0m first_test_score \u001b[38;5;241m=\u001b[39m all_out[\u001b[38;5;241m0\u001b[39m][\u001b[38;5;124m\"\u001b[39m\u001b[38;5;124mtest_scores\u001b[39m\u001b[38;5;124m\"\u001b[39m]\n",
      "File \u001b[1;32mc:\\Users\\User\\AppData\\Local\\Programs\\Python\\Python312\\Lib\\site-packages\\sklearn\\model_selection\\_search.py:1951\u001b[0m, in \u001b[0;36mRandomizedSearchCV._run_search\u001b[1;34m(self, evaluate_candidates)\u001b[0m\n\u001b[0;32m   1949\u001b[0m \u001b[38;5;28;01mdef\u001b[39;00m \u001b[38;5;21m_run_search\u001b[39m(\u001b[38;5;28mself\u001b[39m, evaluate_candidates):\n\u001b[0;32m   1950\u001b[0m \u001b[38;5;250m    \u001b[39m\u001b[38;5;124;03m\"\"\"Search n_iter candidates from param_distributions\"\"\"\u001b[39;00m\n\u001b[1;32m-> 1951\u001b[0m     \u001b[43mevaluate_candidates\u001b[49m\u001b[43m(\u001b[49m\n\u001b[0;32m   1952\u001b[0m \u001b[43m        \u001b[49m\u001b[43mParameterSampler\u001b[49m\u001b[43m(\u001b[49m\n\u001b[0;32m   1953\u001b[0m \u001b[43m            \u001b[49m\u001b[38;5;28;43mself\u001b[39;49m\u001b[38;5;241;43m.\u001b[39;49m\u001b[43mparam_distributions\u001b[49m\u001b[43m,\u001b[49m\u001b[43m \u001b[49m\u001b[38;5;28;43mself\u001b[39;49m\u001b[38;5;241;43m.\u001b[39;49m\u001b[43mn_iter\u001b[49m\u001b[43m,\u001b[49m\u001b[43m \u001b[49m\u001b[43mrandom_state\u001b[49m\u001b[38;5;241;43m=\u001b[39;49m\u001b[38;5;28;43mself\u001b[39;49m\u001b[38;5;241;43m.\u001b[39;49m\u001b[43mrandom_state\u001b[49m\n\u001b[0;32m   1954\u001b[0m \u001b[43m        \u001b[49m\u001b[43m)\u001b[49m\n\u001b[0;32m   1955\u001b[0m \u001b[43m    \u001b[49m\u001b[43m)\u001b[49m\n",
      "File \u001b[1;32mc:\\Users\\User\\AppData\\Local\\Programs\\Python\\Python312\\Lib\\site-packages\\sklearn\\model_selection\\_search.py:970\u001b[0m, in \u001b[0;36mBaseSearchCV.fit.<locals>.evaluate_candidates\u001b[1;34m(candidate_params, cv, more_results)\u001b[0m\n\u001b[0;32m    962\u001b[0m \u001b[38;5;28;01mif\u001b[39;00m \u001b[38;5;28mself\u001b[39m\u001b[38;5;241m.\u001b[39mverbose \u001b[38;5;241m>\u001b[39m \u001b[38;5;241m0\u001b[39m:\n\u001b[0;32m    963\u001b[0m     \u001b[38;5;28mprint\u001b[39m(\n\u001b[0;32m    964\u001b[0m         \u001b[38;5;124m\"\u001b[39m\u001b[38;5;124mFitting \u001b[39m\u001b[38;5;132;01m{0}\u001b[39;00m\u001b[38;5;124m folds for each of \u001b[39m\u001b[38;5;132;01m{1}\u001b[39;00m\u001b[38;5;124m candidates,\u001b[39m\u001b[38;5;124m\"\u001b[39m\n\u001b[0;32m    965\u001b[0m         \u001b[38;5;124m\"\u001b[39m\u001b[38;5;124m totalling \u001b[39m\u001b[38;5;132;01m{2}\u001b[39;00m\u001b[38;5;124m fits\u001b[39m\u001b[38;5;124m\"\u001b[39m\u001b[38;5;241m.\u001b[39mformat(\n\u001b[0;32m    966\u001b[0m             n_splits, n_candidates, n_candidates \u001b[38;5;241m*\u001b[39m n_splits\n\u001b[0;32m    967\u001b[0m         )\n\u001b[0;32m    968\u001b[0m     )\n\u001b[1;32m--> 970\u001b[0m out \u001b[38;5;241m=\u001b[39m \u001b[43mparallel\u001b[49m\u001b[43m(\u001b[49m\n\u001b[0;32m    971\u001b[0m \u001b[43m    \u001b[49m\u001b[43mdelayed\u001b[49m\u001b[43m(\u001b[49m\u001b[43m_fit_and_score\u001b[49m\u001b[43m)\u001b[49m\u001b[43m(\u001b[49m\n\u001b[0;32m    972\u001b[0m \u001b[43m        \u001b[49m\u001b[43mclone\u001b[49m\u001b[43m(\u001b[49m\u001b[43mbase_estimator\u001b[49m\u001b[43m)\u001b[49m\u001b[43m,\u001b[49m\n\u001b[0;32m    973\u001b[0m \u001b[43m        \u001b[49m\u001b[43mX\u001b[49m\u001b[43m,\u001b[49m\n\u001b[0;32m    974\u001b[0m \u001b[43m        \u001b[49m\u001b[43my\u001b[49m\u001b[43m,\u001b[49m\n\u001b[0;32m    975\u001b[0m \u001b[43m        \u001b[49m\u001b[43mtrain\u001b[49m\u001b[38;5;241;43m=\u001b[39;49m\u001b[43mtrain\u001b[49m\u001b[43m,\u001b[49m\n\u001b[0;32m    976\u001b[0m \u001b[43m        \u001b[49m\u001b[43mtest\u001b[49m\u001b[38;5;241;43m=\u001b[39;49m\u001b[43mtest\u001b[49m\u001b[43m,\u001b[49m\n\u001b[0;32m    977\u001b[0m \u001b[43m        \u001b[49m\u001b[43mparameters\u001b[49m\u001b[38;5;241;43m=\u001b[39;49m\u001b[43mparameters\u001b[49m\u001b[43m,\u001b[49m\n\u001b[0;32m    978\u001b[0m \u001b[43m        \u001b[49m\u001b[43msplit_progress\u001b[49m\u001b[38;5;241;43m=\u001b[39;49m\u001b[43m(\u001b[49m\u001b[43msplit_idx\u001b[49m\u001b[43m,\u001b[49m\u001b[43m \u001b[49m\u001b[43mn_splits\u001b[49m\u001b[43m)\u001b[49m\u001b[43m,\u001b[49m\n\u001b[0;32m    979\u001b[0m \u001b[43m        \u001b[49m\u001b[43mcandidate_progress\u001b[49m\u001b[38;5;241;43m=\u001b[39;49m\u001b[43m(\u001b[49m\u001b[43mcand_idx\u001b[49m\u001b[43m,\u001b[49m\u001b[43m \u001b[49m\u001b[43mn_candidates\u001b[49m\u001b[43m)\u001b[49m\u001b[43m,\u001b[49m\n\u001b[0;32m    980\u001b[0m \u001b[43m        \u001b[49m\u001b[38;5;241;43m*\u001b[39;49m\u001b[38;5;241;43m*\u001b[39;49m\u001b[43mfit_and_score_kwargs\u001b[49m\u001b[43m,\u001b[49m\n\u001b[0;32m    981\u001b[0m \u001b[43m    \u001b[49m\u001b[43m)\u001b[49m\n\u001b[0;32m    982\u001b[0m \u001b[43m    \u001b[49m\u001b[38;5;28;43;01mfor\u001b[39;49;00m\u001b[43m \u001b[49m\u001b[43m(\u001b[49m\u001b[43mcand_idx\u001b[49m\u001b[43m,\u001b[49m\u001b[43m \u001b[49m\u001b[43mparameters\u001b[49m\u001b[43m)\u001b[49m\u001b[43m,\u001b[49m\u001b[43m \u001b[49m\u001b[43m(\u001b[49m\u001b[43msplit_idx\u001b[49m\u001b[43m,\u001b[49m\u001b[43m \u001b[49m\u001b[43m(\u001b[49m\u001b[43mtrain\u001b[49m\u001b[43m,\u001b[49m\u001b[43m \u001b[49m\u001b[43mtest\u001b[49m\u001b[43m)\u001b[49m\u001b[43m)\u001b[49m\u001b[43m \u001b[49m\u001b[38;5;129;43;01min\u001b[39;49;00m\u001b[43m \u001b[49m\u001b[43mproduct\u001b[49m\u001b[43m(\u001b[49m\n\u001b[0;32m    983\u001b[0m \u001b[43m        \u001b[49m\u001b[38;5;28;43menumerate\u001b[39;49m\u001b[43m(\u001b[49m\u001b[43mcandidate_params\u001b[49m\u001b[43m)\u001b[49m\u001b[43m,\u001b[49m\n\u001b[0;32m    984\u001b[0m \u001b[43m        \u001b[49m\u001b[38;5;28;43menumerate\u001b[39;49m\u001b[43m(\u001b[49m\u001b[43mcv\u001b[49m\u001b[38;5;241;43m.\u001b[39;49m\u001b[43msplit\u001b[49m\u001b[43m(\u001b[49m\u001b[43mX\u001b[49m\u001b[43m,\u001b[49m\u001b[43m \u001b[49m\u001b[43my\u001b[49m\u001b[43m,\u001b[49m\u001b[43m \u001b[49m\u001b[38;5;241;43m*\u001b[39;49m\u001b[38;5;241;43m*\u001b[39;49m\u001b[43mrouted_params\u001b[49m\u001b[38;5;241;43m.\u001b[39;49m\u001b[43msplitter\u001b[49m\u001b[38;5;241;43m.\u001b[39;49m\u001b[43msplit\u001b[49m\u001b[43m)\u001b[49m\u001b[43m)\u001b[49m\u001b[43m,\u001b[49m\n\u001b[0;32m    985\u001b[0m \u001b[43m    \u001b[49m\u001b[43m)\u001b[49m\n\u001b[0;32m    986\u001b[0m \u001b[43m\u001b[49m\u001b[43m)\u001b[49m\n\u001b[0;32m    988\u001b[0m \u001b[38;5;28;01mif\u001b[39;00m \u001b[38;5;28mlen\u001b[39m(out) \u001b[38;5;241m<\u001b[39m \u001b[38;5;241m1\u001b[39m:\n\u001b[0;32m    989\u001b[0m     \u001b[38;5;28;01mraise\u001b[39;00m \u001b[38;5;167;01mValueError\u001b[39;00m(\n\u001b[0;32m    990\u001b[0m         \u001b[38;5;124m\"\u001b[39m\u001b[38;5;124mNo fits were performed. \u001b[39m\u001b[38;5;124m\"\u001b[39m\n\u001b[0;32m    991\u001b[0m         \u001b[38;5;124m\"\u001b[39m\u001b[38;5;124mWas the CV iterator empty? \u001b[39m\u001b[38;5;124m\"\u001b[39m\n\u001b[0;32m    992\u001b[0m         \u001b[38;5;124m\"\u001b[39m\u001b[38;5;124mWere there no candidates?\u001b[39m\u001b[38;5;124m\"\u001b[39m\n\u001b[0;32m    993\u001b[0m     )\n",
      "File \u001b[1;32mc:\\Users\\User\\AppData\\Local\\Programs\\Python\\Python312\\Lib\\site-packages\\sklearn\\utils\\parallel.py:77\u001b[0m, in \u001b[0;36mParallel.__call__\u001b[1;34m(self, iterable)\u001b[0m\n\u001b[0;32m     72\u001b[0m config \u001b[38;5;241m=\u001b[39m get_config()\n\u001b[0;32m     73\u001b[0m iterable_with_config \u001b[38;5;241m=\u001b[39m (\n\u001b[0;32m     74\u001b[0m     (_with_config(delayed_func, config), args, kwargs)\n\u001b[0;32m     75\u001b[0m     \u001b[38;5;28;01mfor\u001b[39;00m delayed_func, args, kwargs \u001b[38;5;129;01min\u001b[39;00m iterable\n\u001b[0;32m     76\u001b[0m )\n\u001b[1;32m---> 77\u001b[0m \u001b[38;5;28;01mreturn\u001b[39;00m \u001b[38;5;28;43msuper\u001b[39;49m\u001b[43m(\u001b[49m\u001b[43m)\u001b[49m\u001b[38;5;241;43m.\u001b[39;49m\u001b[38;5;21;43m__call__\u001b[39;49m\u001b[43m(\u001b[49m\u001b[43miterable_with_config\u001b[49m\u001b[43m)\u001b[49m\n",
      "File \u001b[1;32mc:\\Users\\User\\AppData\\Local\\Programs\\Python\\Python312\\Lib\\site-packages\\joblib\\parallel.py:2007\u001b[0m, in \u001b[0;36mParallel.__call__\u001b[1;34m(self, iterable)\u001b[0m\n\u001b[0;32m   2001\u001b[0m \u001b[38;5;66;03m# The first item from the output is blank, but it makes the interpreter\u001b[39;00m\n\u001b[0;32m   2002\u001b[0m \u001b[38;5;66;03m# progress until it enters the Try/Except block of the generator and\u001b[39;00m\n\u001b[0;32m   2003\u001b[0m \u001b[38;5;66;03m# reaches the first `yield` statement. This starts the asynchronous\u001b[39;00m\n\u001b[0;32m   2004\u001b[0m \u001b[38;5;66;03m# dispatch of the tasks to the workers.\u001b[39;00m\n\u001b[0;32m   2005\u001b[0m \u001b[38;5;28mnext\u001b[39m(output)\n\u001b[1;32m-> 2007\u001b[0m \u001b[38;5;28;01mreturn\u001b[39;00m output \u001b[38;5;28;01mif\u001b[39;00m \u001b[38;5;28mself\u001b[39m\u001b[38;5;241m.\u001b[39mreturn_generator \u001b[38;5;28;01melse\u001b[39;00m \u001b[38;5;28;43mlist\u001b[39;49m\u001b[43m(\u001b[49m\u001b[43moutput\u001b[49m\u001b[43m)\u001b[49m\n",
      "File \u001b[1;32mc:\\Users\\User\\AppData\\Local\\Programs\\Python\\Python312\\Lib\\site-packages\\joblib\\parallel.py:1650\u001b[0m, in \u001b[0;36mParallel._get_outputs\u001b[1;34m(self, iterator, pre_dispatch)\u001b[0m\n\u001b[0;32m   1647\u001b[0m     \u001b[38;5;28;01myield\u001b[39;00m\n\u001b[0;32m   1649\u001b[0m     \u001b[38;5;28;01mwith\u001b[39;00m \u001b[38;5;28mself\u001b[39m\u001b[38;5;241m.\u001b[39m_backend\u001b[38;5;241m.\u001b[39mretrieval_context():\n\u001b[1;32m-> 1650\u001b[0m         \u001b[38;5;28;01myield from\u001b[39;00m \u001b[38;5;28mself\u001b[39m\u001b[38;5;241m.\u001b[39m_retrieve()\n\u001b[0;32m   1652\u001b[0m \u001b[38;5;28;01mexcept\u001b[39;00m \u001b[38;5;167;01mGeneratorExit\u001b[39;00m:\n\u001b[0;32m   1653\u001b[0m     \u001b[38;5;66;03m# The generator has been garbage collected before being fully\u001b[39;00m\n\u001b[0;32m   1654\u001b[0m     \u001b[38;5;66;03m# consumed. This aborts the remaining tasks if possible and warn\u001b[39;00m\n\u001b[0;32m   1655\u001b[0m     \u001b[38;5;66;03m# the user if necessary.\u001b[39;00m\n\u001b[0;32m   1656\u001b[0m     \u001b[38;5;28mself\u001b[39m\u001b[38;5;241m.\u001b[39m_exception \u001b[38;5;241m=\u001b[39m \u001b[38;5;28;01mTrue\u001b[39;00m\n",
      "File \u001b[1;32mc:\\Users\\User\\AppData\\Local\\Programs\\Python\\Python312\\Lib\\site-packages\\joblib\\parallel.py:1762\u001b[0m, in \u001b[0;36mParallel._retrieve\u001b[1;34m(self)\u001b[0m\n\u001b[0;32m   1757\u001b[0m \u001b[38;5;66;03m# If the next job is not ready for retrieval yet, we just wait for\u001b[39;00m\n\u001b[0;32m   1758\u001b[0m \u001b[38;5;66;03m# async callbacks to progress.\u001b[39;00m\n\u001b[0;32m   1759\u001b[0m \u001b[38;5;28;01mif\u001b[39;00m ((\u001b[38;5;28mlen\u001b[39m(\u001b[38;5;28mself\u001b[39m\u001b[38;5;241m.\u001b[39m_jobs) \u001b[38;5;241m==\u001b[39m \u001b[38;5;241m0\u001b[39m) \u001b[38;5;129;01mor\u001b[39;00m\n\u001b[0;32m   1760\u001b[0m     (\u001b[38;5;28mself\u001b[39m\u001b[38;5;241m.\u001b[39m_jobs[\u001b[38;5;241m0\u001b[39m]\u001b[38;5;241m.\u001b[39mget_status(\n\u001b[0;32m   1761\u001b[0m         timeout\u001b[38;5;241m=\u001b[39m\u001b[38;5;28mself\u001b[39m\u001b[38;5;241m.\u001b[39mtimeout) \u001b[38;5;241m==\u001b[39m TASK_PENDING)):\n\u001b[1;32m-> 1762\u001b[0m     \u001b[43mtime\u001b[49m\u001b[38;5;241;43m.\u001b[39;49m\u001b[43msleep\u001b[49m\u001b[43m(\u001b[49m\u001b[38;5;241;43m0.01\u001b[39;49m\u001b[43m)\u001b[49m\n\u001b[0;32m   1763\u001b[0m     \u001b[38;5;28;01mcontinue\u001b[39;00m\n\u001b[0;32m   1765\u001b[0m \u001b[38;5;66;03m# We need to be careful: the job list can be filling up as\u001b[39;00m\n\u001b[0;32m   1766\u001b[0m \u001b[38;5;66;03m# we empty it and Python list are not thread-safe by\u001b[39;00m\n\u001b[0;32m   1767\u001b[0m \u001b[38;5;66;03m# default hence the use of the lock\u001b[39;00m\n",
      "\u001b[1;31mKeyboardInterrupt\u001b[0m: "
     ]
    }
   ],
   "source": [
    "search.fit(X_train, y_train)\n",
    "best_model = search.best_estimator_\n",
    "print(\"Best Parameters:\", search.best_params_)"
   ]
  },
  {
   "cell_type": "code",
   "execution_count": null,
   "id": "d55df2c1",
   "metadata": {},
   "outputs": [],
   "source": [
    "y_pred_val = best_model.predict(X_val)\n",
    "\n",
    "mae_val = mean_absolute_error(y_val, y_pred_val)\n",
    "rmse_val = np.sqrt(mean_squared_error(y_val, y_pred_val))\n",
    "r2_val = r2_score(y_val, y_pred_val)\n",
    "\n",
    "print(f\"Validation MAE: {mae_val:.2f}, RMSE: {rmse_val:.2f}, R²: {r2_val:.2f}\")\n"
   ]
  },
  {
   "cell_type": "markdown",
   "id": "745b477b",
   "metadata": {},
   "source": [
    "## 8️⃣ Affordability Scoring (Generative AI-Assisted)\n",
    "\n",
    "We use a vectorized affordability function suggested/generated by AI. It calculates the annual payment and compares it to median income.\n"
   ]
  },
  {
   "cell_type": "code",
   "execution_count": null,
   "id": "ebb17cd9",
   "metadata": {},
   "outputs": [],
   "source": [
    "def calculate_affordability_fixed(pred_prices, cities, interest_rate=0.035, years=30):\n",
    "    scores = []\n",
    "    labels = []\n",
    "    for price, city in zip(pred_prices, cities):\n",
    "        income = median_income.get(city, 90000)\n",
    "        annual_payment = (price * interest_rate) / (1 - (1 + interest_rate) ** (-years))\n",
    "        score = annual_payment / income\n",
    "        if score < 0.3:\n",
    "            label = \"✅ Affordable\"\n",
    "        elif score < 0.5:\n",
    "            label = \"⚠️ At Risk\"\n",
    "        else:\n",
    "            label = \"🚫 Unaffordable\"\n",
    "        scores.append(round(score,2))\n",
    "        labels.append(label)\n",
    "    return scores, labels\n"
   ]
  },
  {
   "cell_type": "markdown",
   "id": "c748ae2d",
   "metadata": {},
   "source": [
    "## 9️⃣ Random Sample Prediction\n",
    "\n",
    "Select a random property from the test set, predict its price, and calculate affordability score using GenAI-generated function.\n"
   ]
  },
  {
   "cell_type": "code",
   "execution_count": null,
   "id": "b1e7d2b3",
   "metadata": {},
   "outputs": [
    {
     "name": "stdout",
     "output_type": "stream",
     "text": [
      "Random Sample from Port Coquitlam, BC\n",
      "Predicted Price: $1,532,222\n",
      "Affordability Score: 0.98 → 🚫 Unaffordable\n"
     ]
    }
   ],
   "source": [
    "sample = X_test.sample(1).iloc[0]\n",
    "X_sample = pd.DataFrame([sample])\n",
    "pred_price = best_model.predict(X_sample)[0]\n",
    "\n",
    "score, label = calculate_affordability_fixed([pred_price], [sample['City']])\n",
    "score, label = score[0], label[0]\n",
    "\n",
    "print(f\"Random Sample from {sample['City']}, {sample['Province']}\")\n",
    "print(f\"Predicted Price: ${pred_price:,.0f}\")\n",
    "print(f\"Affordability Score: {score} → {label}\")\n"
   ]
  },
  {
   "cell_type": "markdown",
   "id": "bd42b260",
   "metadata": {},
   "source": [
    "## 🔟 Test Set Evaluation\n",
    "\n",
    "Evaluate the model on the test set to compare predictive performance.\n"
   ]
  },
  {
   "cell_type": "code",
   "execution_count": null,
   "id": "be5f6263",
   "metadata": {},
   "outputs": [
    {
     "name": "stdout",
     "output_type": "stream",
     "text": [
      "Test MAE: 235804.83, RMSE: 640399.58, R²: 0.82\n"
     ]
    },
    {
     "data": {
      "image/png": "[encoded data removed]",
      "text/plain": [
       "<Figure size 600x600 with 1 Axes>"
      ]
     },
     "metadata": {},
     "output_type": "display_data"
    }
   ],
   "source": [
    "y_pred_test = best_model.predict(X_test)\n",
    "\n",
    "mae_test = mean_absolute_error(y_test, y_pred_test)\n",
    "rmse_test = np.sqrt(mean_squared_error(y_test, y_pred_test))\n",
    "r2_test = r2_score(y_test, y_pred_test)\n",
    "\n",
    "print(f\"Test MAE: {mae_test:.2f}, RMSE: {rmse_test:.2f}, R²: {r2_test:.2f}\")\n",
    "\n",
    "# Plot Predicted vs Actual\n",
    "plt.figure(figsize=(6,6))\n",
    "sns.scatterplot(x=y_test, y=y_pred_test)\n",
    "plt.xlabel(\"Actual Price\")\n",
    "plt.ylabel(\"Predicted Price\")\n",
    "plt.title(\"Predicted vs Actual Prices\")\n",
    "plt.show()\n"
   ]
  }
 ],
 "metadata": {
  "kernelspec": {
   "display_name": "Python 3",
   "language": "python",
   "name": "python3"
  },
  "language_info": {
   "codemirror_mode": {
    "name": "ipython",
    "version": 3
   },
   "file_extension": ".py",
   "mimetype": "text/x-python",
   "name": "python",
   "nbconvert_exporter": "python",
   "pygments_lexer": "ipython3",
   "version": "3.12.3"
  }
 },
 "nbformat": 4,
 "nbformat_minor": 5
}
