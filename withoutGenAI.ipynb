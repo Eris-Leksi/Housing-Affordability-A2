{
 "cells": [
  {
   "cell_type": "markdown",
   "id": "6161de15",
   "metadata": {},
   "source": [
    "# Housing Affordability — Prototype (No Generative AI)\n",
    "\n",
    "**Goal:** Build a baseline ML model to predict house prices and compute an affordability score.\n",
    "This notebook implements:\n",
    "- Data loading (or synthetic data creation)\n",
    "- EDA (basic)\n",
    "- Preprocessing & feature engineering\n",
    "- Model training: Linear Regression, Random Forest, XGBoost (if available)\n",
    "- Evaluation (RMSE, MAE, R²)\n",
    "- Affordability scoring\n",
    "- Simple visualizations\n",
    "\n",
    "Run from top to bottom. Keep packages up-to-date and use a virtual environment for reproducibility.\n"
   ]
  },
  {
   "cell_type": "markdown",
   "id": "a033fb59",
   "metadata": {},
   "source": [
    "## Setup & Imports\n",
    "\n"
   ]
  },
  {
   "cell_type": "code",
   "execution_count": 1,
   "id": "8717a6b4",
   "metadata": {},
   "outputs": [],
   "source": [
    "import os\n",
    "import math\n",
    "import numpy as np\n",
    "import pandas as pd\n",
    "import matplotlib.pyplot as plt\n",
    "import seaborn as sns\n",
    "from pathlib import Path\n",
    "\n",
    "from sklearn.model_selection import train_test_split, KFold, cross_val_score, GridSearchCV\n",
    "from sklearn.pipeline import Pipeline\n",
    "from sklearn.compose import ColumnTransformer\n",
    "from sklearn.preprocessing import OneHotEncoder, StandardScaler, OrdinalEncoder\n",
    "from sklearn.impute import SimpleImputer\n",
    "from sklearn.linear_model import LinearRegression\n",
    "from sklearn.ensemble import RandomForestRegressor\n",
    "from sklearn.metrics import mean_squared_error, mean_absolute_error, r2_score"
   ]
  },
  {
   "cell_type": "markdown",
   "id": "d8e02588",
   "metadata": {},
   "source": [
    "## Data loading\n"
   ]
  },
  {
   "cell_type": "code",
   "execution_count": 2,
   "id": "07e61458",
   "metadata": {},
   "outputs": [
    {
     "name": "stdout",
     "output_type": "stream",
     "text": [
      "Dataset loaded successfully.\n"
     ]
    },
    {
     "data": {
      "application/vnd.microsoft.datawrangler.viewer.v0+json": {
       "columns": [
        {
         "name": "index",
         "rawType": "int64",
         "type": "integer"
        },
        {
         "name": "City",
         "rawType": "object",
         "type": "string"
        },
        {
         "name": "Province",
         "rawType": "object",
         "type": "string"
        },
        {
         "name": "Latitude",
         "rawType": "float64",
         "type": "float"
        },
        {
         "name": "Longitude",
         "rawType": "float64",
         "type": "float"
        },
        {
         "name": "Price",
         "rawType": "float64",
         "type": "float"
        },
        {
         "name": "Bedrooms",
         "rawType": "float64",
         "type": "float"
        },
        {
         "name": "Bathrooms",
         "rawType": "float64",
         "type": "float"
        },
        {
         "name": "Acreage",
         "rawType": "float64",
         "type": "float"
        },
        {
         "name": "Property Type",
         "rawType": "object",
         "type": "string"
        },
        {
         "name": "Square Footage",
         "rawType": "float64",
         "type": "float"
        },
        {
         "name": "Garage",
         "rawType": "object",
         "type": "string"
        },
        {
         "name": "Parking",
         "rawType": "object",
         "type": "string"
        },
        {
         "name": "Basement",
         "rawType": "object",
         "type": "unknown"
        },
        {
         "name": "Exterior",
         "rawType": "object",
         "type": "unknown"
        },
        {
         "name": "Fireplace",
         "rawType": "object",
         "type": "string"
        },
        {
         "name": "Heating",
         "rawType": "object",
         "type": "unknown"
        },
        {
         "name": "Flooring",
         "rawType": "object",
         "type": "unknown"
        },
        {
         "name": "Roof",
         "rawType": "object",
         "type": "unknown"
        },
        {
         "name": "Waterfront",
         "rawType": "object",
         "type": "string"
        },
        {
         "name": "Sewer",
         "rawType": "object",
         "type": "string"
        },
        {
         "name": "Pool",
         "rawType": "object",
         "type": "string"
        },
        {
         "name": "Garden",
         "rawType": "object",
         "type": "string"
        },
        {
         "name": "Balcony",
         "rawType": "object",
         "type": "string"
        }
       ],
       "ref": "d44702ec-a59e-49f6-817d-c6ce652c37e2",
       "rows": [
        [
         "0",
         "Revelstoke",
         "BC",
         "50.9765854",
         "-118.1731491",
         "839000.0",
         "3.0",
         "2.0",
         "0.0",
         "Condo",
         "891.0",
         "Yes",
         "Yes",
         null,
         null,
         "No",
         "heat pump",
         "carpet",
         null,
         "No",
         "municipal",
         "No",
         "No",
         "No"
        ],
        [
         "1",
         "Boswell",
         "BC",
         "49.4718704",
         "-116.770195",
         "1150000.0",
         "3.0",
         "2.0",
         "0.32",
         "Single Family",
         "1881.0",
         "Yes",
         "Yes",
         null,
         null,
         "No",
         "heat pump",
         null,
         null,
         "No",
         "septic",
         "No",
         "No",
         "No"
        ],
        [
         "2",
         "West Kelowna",
         "BC",
         "49.8252302",
         "-119.6032534",
         "149000.0",
         "2.0",
         "1.0",
         "0.0",
         "Single Family",
         "912.0",
         "No",
         "No",
         null,
         "Metal",
         "No",
         null,
         "laminate",
         "tar",
         "No",
         "municipal",
         "No",
         "No",
         "No"
        ],
        [
         "3",
         "Kelowna",
         "BC",
         "49.8218597",
         "-119.4801428",
         "1298000.0",
         "5.0",
         "4.0",
         "0.69",
         "Single Family",
         "4374.0",
         "Yes",
         "No",
         null,
         null,
         "Yes",
         "forced air",
         null,
         null,
         "No",
         "municipal",
         "No",
         "No",
         "No"
        ],
        [
         "4",
         "Maple Ridge",
         "BC",
         "49.2216734",
         "-122.5966374",
         "759900.0",
         "3.0",
         "2.0",
         "0.0",
         "Condo",
         "1254.0",
         "Yes",
         "Yes",
         null,
         null,
         "No",
         "radiant",
         null,
         null,
         "No",
         "none",
         "No",
         "No",
         "No"
        ]
       ],
       "shape": {
        "columns": 23,
        "rows": 5
       }
      },
      "text/html": [
       "<div>\n",
       "<style scoped>\n",
       "    .dataframe tbody tr th:only-of-type {\n",
       "        vertical-align: middle;\n",
       "    }\n",
       "\n",
       "    .dataframe tbody tr th {\n",
       "        vertical-align: top;\n",
       "    }\n",
       "\n",
       "    .dataframe thead th {\n",
       "        text-align: right;\n",
       "    }\n",
       "</style>\n",
       "<table border=\"1\" class=\"dataframe\">\n",
       "  <thead>\n",
       "    <tr style=\"text-align: right;\">\n",
       "      <th></th>\n",
       "      <th>City</th>\n",
       "      <th>Province</th>\n",
       "      <th>Latitude</th>\n",
       "      <th>Longitude</th>\n",
       "      <th>Price</th>\n",
       "      <th>Bedrooms</th>\n",
       "      <th>Bathrooms</th>\n",
       "      <th>Acreage</th>\n",
       "      <th>Property Type</th>\n",
       "      <th>Square Footage</th>\n",
       "      <th>...</th>\n",
       "      <th>Exterior</th>\n",
       "      <th>Fireplace</th>\n",
       "      <th>Heating</th>\n",
       "      <th>Flooring</th>\n",
       "      <th>Roof</th>\n",
       "      <th>Waterfront</th>\n",
       "      <th>Sewer</th>\n",
       "      <th>Pool</th>\n",
       "      <th>Garden</th>\n",
       "      <th>Balcony</th>\n",
       "    </tr>\n",
       "  </thead>\n",
       "  <tbody>\n",
       "    <tr>\n",
       "      <th>0</th>\n",
       "      <td>Revelstoke</td>\n",
       "      <td>BC</td>\n",
       "      <td>50.976585</td>\n",
       "      <td>-118.173149</td>\n",
       "      <td>839000.0</td>\n",
       "      <td>3.0</td>\n",
       "      <td>2.0</td>\n",
       "      <td>0.00</td>\n",
       "      <td>Condo</td>\n",
       "      <td>891.0</td>\n",
       "      <td>...</td>\n",
       "      <td>NaN</td>\n",
       "      <td>No</td>\n",
       "      <td>heat pump</td>\n",
       "      <td>carpet</td>\n",
       "      <td>NaN</td>\n",
       "      <td>No</td>\n",
       "      <td>municipal</td>\n",
       "      <td>No</td>\n",
       "      <td>No</td>\n",
       "      <td>No</td>\n",
       "    </tr>\n",
       "    <tr>\n",
       "      <th>1</th>\n",
       "      <td>Boswell</td>\n",
       "      <td>BC</td>\n",
       "      <td>49.471870</td>\n",
       "      <td>-116.770195</td>\n",
       "      <td>1150000.0</td>\n",
       "      <td>3.0</td>\n",
       "      <td>2.0</td>\n",
       "      <td>0.32</td>\n",
       "      <td>Single Family</td>\n",
       "      <td>1881.0</td>\n",
       "      <td>...</td>\n",
       "      <td>NaN</td>\n",
       "      <td>No</td>\n",
       "      <td>heat pump</td>\n",
       "      <td>NaN</td>\n",
       "      <td>NaN</td>\n",
       "      <td>No</td>\n",
       "      <td>septic</td>\n",
       "      <td>No</td>\n",
       "      <td>No</td>\n",
       "      <td>No</td>\n",
       "    </tr>\n",
       "    <tr>\n",
       "      <th>2</th>\n",
       "      <td>West Kelowna</td>\n",
       "      <td>BC</td>\n",
       "      <td>49.825230</td>\n",
       "      <td>-119.603253</td>\n",
       "      <td>149000.0</td>\n",
       "      <td>2.0</td>\n",
       "      <td>1.0</td>\n",
       "      <td>0.00</td>\n",
       "      <td>Single Family</td>\n",
       "      <td>912.0</td>\n",
       "      <td>...</td>\n",
       "      <td>Metal</td>\n",
       "      <td>No</td>\n",
       "      <td>NaN</td>\n",
       "      <td>laminate</td>\n",
       "      <td>tar</td>\n",
       "      <td>No</td>\n",
       "      <td>municipal</td>\n",
       "      <td>No</td>\n",
       "      <td>No</td>\n",
       "      <td>No</td>\n",
       "    </tr>\n",
       "    <tr>\n",
       "      <th>3</th>\n",
       "      <td>Kelowna</td>\n",
       "      <td>BC</td>\n",
       "      <td>49.821860</td>\n",
       "      <td>-119.480143</td>\n",
       "      <td>1298000.0</td>\n",
       "      <td>5.0</td>\n",
       "      <td>4.0</td>\n",
       "      <td>0.69</td>\n",
       "      <td>Single Family</td>\n",
       "      <td>4374.0</td>\n",
       "      <td>...</td>\n",
       "      <td>NaN</td>\n",
       "      <td>Yes</td>\n",
       "      <td>forced air</td>\n",
       "      <td>NaN</td>\n",
       "      <td>NaN</td>\n",
       "      <td>No</td>\n",
       "      <td>municipal</td>\n",
       "      <td>No</td>\n",
       "      <td>No</td>\n",
       "      <td>No</td>\n",
       "    </tr>\n",
       "    <tr>\n",
       "      <th>4</th>\n",
       "      <td>Maple Ridge</td>\n",
       "      <td>BC</td>\n",
       "      <td>49.221673</td>\n",
       "      <td>-122.596637</td>\n",
       "      <td>759900.0</td>\n",
       "      <td>3.0</td>\n",
       "      <td>2.0</td>\n",
       "      <td>0.00</td>\n",
       "      <td>Condo</td>\n",
       "      <td>1254.0</td>\n",
       "      <td>...</td>\n",
       "      <td>NaN</td>\n",
       "      <td>No</td>\n",
       "      <td>radiant</td>\n",
       "      <td>NaN</td>\n",
       "      <td>NaN</td>\n",
       "      <td>No</td>\n",
       "      <td>none</td>\n",
       "      <td>No</td>\n",
       "      <td>No</td>\n",
       "      <td>No</td>\n",
       "    </tr>\n",
       "  </tbody>\n",
       "</table>\n",
       "<p>5 rows × 23 columns</p>\n",
       "</div>"
      ],
      "text/plain": [
       "           City Province   Latitude   Longitude      Price  Bedrooms  \\\n",
       "0    Revelstoke       BC  50.976585 -118.173149   839000.0       3.0   \n",
       "1       Boswell       BC  49.471870 -116.770195  1150000.0       3.0   \n",
       "2  West Kelowna       BC  49.825230 -119.603253   149000.0       2.0   \n",
       "3       Kelowna       BC  49.821860 -119.480143  1298000.0       5.0   \n",
       "4   Maple Ridge       BC  49.221673 -122.596637   759900.0       3.0   \n",
       "\n",
       "   Bathrooms  Acreage  Property Type  Square Footage  ... Exterior Fireplace  \\\n",
       "0        2.0     0.00          Condo           891.0  ...      NaN        No   \n",
       "1        2.0     0.32  Single Family          1881.0  ...      NaN        No   \n",
       "2        1.0     0.00  Single Family           912.0  ...    Metal        No   \n",
       "3        4.0     0.69  Single Family          4374.0  ...      NaN       Yes   \n",
       "4        2.0     0.00          Condo          1254.0  ...      NaN        No   \n",
       "\n",
       "      Heating  Flooring Roof Waterfront      Sewer Pool Garden Balcony  \n",
       "0   heat pump    carpet  NaN         No  municipal   No     No      No  \n",
       "1   heat pump       NaN  NaN         No     septic   No     No      No  \n",
       "2         NaN  laminate  tar         No  municipal   No     No      No  \n",
       "3  forced air       NaN  NaN         No  municipal   No     No      No  \n",
       "4     radiant       NaN  NaN         No       none   No     No      No  \n",
       "\n",
       "[5 rows x 23 columns]"
      ]
     },
     "execution_count": 2,
     "metadata": {},
     "output_type": "execute_result"
    }
   ],
   "source": [
    "df = pd.read_csv(\"canadian_housing_data.csv\")\n",
    "\n",
    "print(\"Dataset loaded successfully.\")\n",
    "# Display first few rows\n",
    "df.head()\n"
   ]
  },
  {
   "cell_type": "markdown",
   "id": "dd44c52a",
   "metadata": {},
   "source": [
    "## Quick EDA\n",
    "\n",
    "Inspect the top rows, basic statistics, and correlations.\n"
   ]
  },
  {
   "cell_type": "code",
   "execution_count": 5,
   "id": "041aefe7",
   "metadata": {},
   "outputs": [
    {
     "name": "stdout",
     "output_type": "stream",
     "text": [
      "<class 'pandas.core.frame.DataFrame'>\n",
      "RangeIndex: 44896 entries, 0 to 44895\n",
      "Data columns (total 23 columns):\n",
      " #   Column          Non-Null Count  Dtype  \n",
      "---  ------          --------------  -----  \n",
      " 0   City            44896 non-null  object \n",
      " 1   Province        44896 non-null  object \n",
      " 2   Latitude        44896 non-null  float64\n",
      " 3   Longitude       44896 non-null  float64\n",
      " 4   Price           44896 non-null  float64\n",
      " 5   Bedrooms        44896 non-null  float64\n",
      " 6   Bathrooms       44896 non-null  float64\n",
      " 7   Acreage         44896 non-null  float64\n",
      " 8   Property Type   44896 non-null  object \n",
      " 9   Square Footage  44896 non-null  float64\n",
      " 10  Garage          44896 non-null  object \n",
      " 11  Parking         44896 non-null  object \n",
      " 12  Basement        14962 non-null  object \n",
      " 13  Exterior        17439 non-null  object \n",
      " 14  Fireplace       44896 non-null  object \n",
      " 15  Heating         38242 non-null  object \n",
      " 16  Flooring        15216 non-null  object \n",
      " 17  Roof            10052 non-null  object \n",
      " 18  Waterfront      44896 non-null  object \n",
      " 19  Sewer           44896 non-null  object \n",
      " 20  Pool            44896 non-null  object \n",
      " 21  Garden          44896 non-null  object \n",
      " 22  Balcony         44896 non-null  object \n",
      "dtypes: float64(7), object(16)\n",
      "memory usage: 7.9+ MB\n"
     ]
    },
    {
     "data": {
      "image/png": "[encoded data removed]",
      "text/plain": [
       "<Figure size 640x480 with 1 Axes>"
      ]
     },
     "metadata": {},
     "output_type": "display_data"
    },
    {
     "data": {
      "image/png": "[encoded data removed]",
      "text/plain": [
       "<Figure size 800x400 with 1 Axes>"
      ]
     },
     "metadata": {},
     "output_type": "display_data"
    }
   ],
   "source": [
    "# Quick info\n",
    "df.info()\n",
    "df.describe()\n",
    "\n",
    "# Check missing values\n",
    "df.isnull().sum()\n",
    "\n",
    "# Price distribution\n",
    "sns.histplot(df['Price'], bins=50, kde=True)\n",
    "plt.title(\"Distribution of House Prices\")\n",
    "plt.show()\n",
    "\n",
    "# Price by Property Type\n",
    "plt.figure(figsize=(8,4))\n",
    "sns.boxplot(x='Property Type', y='Price', data=df)\n",
    "plt.xticks(rotation=45)\n",
    "plt.title(\"Price Distribution by Property Type\")\n",
    "plt.show()\n"
   ]
  },
  {
   "cell_type": "markdown",
   "id": "5b4fb17b",
   "metadata": {},
   "source": [
    "## Data Cleaning and Feature Engineering\n"
   ]
  },
  {
   "cell_type": "code",
   "execution_count": 6,
   "id": "340faabe",
   "metadata": {},
   "outputs": [],
   "source": [
    "# Drop duplicates\n",
    "df.drop_duplicates(inplace=True)\n",
    "\n",
    "# Handle missing values\n",
    "df['Price'] = df['Price'].fillna(df['Price'].median())\n",
    "df['Bedrooms'] = df['Bedrooms'].fillna(df['Bedrooms'].median())\n",
    "df['Bathrooms'] = df['Bathrooms'].fillna(df['Bathrooms'].median())\n",
    "df['Acreage'] = df['Acreage'].fillna(df['Acreage'].median())\n",
    "df['Square Footage'] = df['Square Footage'].fillna(df['Square Footage'].median())\n",
    "df['Property Type'] = df['Property Type'].fillna('Unknown')\n",
    "df['City'] = df['City'].fillna('Unknown')\n",
    "df['Province'] = df['Province'].fillna('Unknown')\n",
    "\n",
    "# Optional: create house age if you have year built (not present now)\n"
   ]
  },
  {
   "cell_type": "markdown",
   "id": "5f5dffda",
   "metadata": {},
   "source": [
    "## Train / Test / Validation split\n",
    "\n",
    "Use an 80/10/10 split and set a random_state for reproducibility.\n"
   ]
  },
  {
   "cell_type": "code",
   "execution_count": 7,
   "id": "41926c38",
   "metadata": {},
   "outputs": [
    {
     "name": "stdout",
     "output_type": "stream",
     "text": [
      "Train: (32651, 23), Val: (4081, 23), Test: (4082, 23)\n"
     ]
    }
   ],
   "source": [
    "features = ['City', 'Province', 'Property Type', 'Latitude', 'Longitude', 'Bedrooms', 'Bathrooms', 'Acreage', 'Square Footage']\n",
    "target = 'Price'\n",
    "\n",
    "# Split data into train + temp\n",
    "train_df, temp_df = train_test_split(df, test_size=0.2, random_state=42)\n",
    "\n",
    "# Split temp into validation and test\n",
    "val_df, test_df = train_test_split(temp_df, test_size=0.5, random_state=42)\n",
    "\n",
    "# Confirm split\n",
    "print(f\"Train: {train_df.shape}, Val: {val_df.shape}, Test: {test_df.shape}\")\n"
   ]
  },
  {
   "cell_type": "markdown",
   "id": "c7eb20a2",
   "metadata": {},
   "source": [
    "## Preprocessing and Pipeline Setup"
   ]
  },
  {
   "cell_type": "code",
   "execution_count": 8,
   "id": "86ef1183",
   "metadata": {},
   "outputs": [],
   "source": [
    "categorical_features = ['City', 'Province', 'Property Type']\n",
    "numeric_features = ['Latitude', 'Longitude', 'Bedrooms', 'Bathrooms', 'Acreage', 'Square Footage']\n",
    "\n",
    "# Preprocessor\n",
    "preprocessor = ColumnTransformer([\n",
    "    ('num', StandardScaler(), numeric_features),\n",
    "    ('cat', OneHotEncoder(handle_unknown='ignore'), categorical_features)\n",
    "])\n",
    "\n",
    "# Random Forest Pipeline\n",
    "model = Pipeline([\n",
    "    ('preprocessor', preprocessor),\n",
    "    ('regressor', RandomForestRegressor(n_estimators=200, random_state=42))\n",
    "])\n",
    "\n",
    "# X and y\n",
    "X_train, y_train = train_df[features], train_df[target]\n",
    "X_val, y_val = val_df[features], val_df[target]\n",
    "X_test, y_test = test_df[features], test_df[target]\n"
   ]
  },
  {
   "cell_type": "markdown",
   "id": "f0b89117",
   "metadata": {},
   "source": [
    "## Model Training and Evaluation"
   ]
  },
  {
   "cell_type": "code",
   "execution_count": 9,
   "id": "766358be",
   "metadata": {},
   "outputs": [
    {
     "name": "stdout",
     "output_type": "stream",
     "text": [
      "Validation MAE: 221452.46\n",
      "Validation RMSE: 638754.24\n",
      "Validation R²: 0.78\n"
     ]
    }
   ],
   "source": [
    "# Train model\n",
    "model.fit(X_train, y_train)\n",
    "\n",
    "# Validate\n",
    "y_pred_val = model.predict(X_val)\n",
    "\n",
    "# Metrics\n",
    "mae = mean_absolute_error(y_val, y_pred_val)\n",
    "rmse = np.sqrt(mean_squared_error(y_val, y_pred_val))\n",
    "r2 = r2_score(y_val, y_pred_val)\n",
    "\n",
    "print(f\"Validation MAE: {mae:.2f}\")\n",
    "print(f\"Validation RMSE: {rmse:.2f}\")\n",
    "print(f\"Validation R²: {r2:.2f}\")\n"
   ]
  },
  {
   "cell_type": "markdown",
   "id": "480f020e",
   "metadata": {},
   "source": [
    "**Expected Outcome:**  \n",
    "A well-performing model should yield:  \n",
    "- **R² > 0.75** (depending on dataset quality)  \n",
    "- **MAE** and **RMSE** within a reasonable range relative to average housing prices.\n"
   ]
  },
  {
   "cell_type": "markdown",
   "id": "53ff3c21",
   "metadata": {},
   "source": [
    "## Affordability Scoring Module"
   ]
  },
  {
   "cell_type": "code",
   "execution_count": 17,
   "id": "d50008f8",
   "metadata": {},
   "outputs": [
    {
     "data": {
      "application/vnd.microsoft.datawrangler.viewer.v0+json": {
       "columns": [
        {
         "name": "index",
         "rawType": "int64",
         "type": "integer"
        },
        {
         "name": "City",
         "rawType": "object",
         "type": "string"
        },
        {
         "name": "affordability_score",
         "rawType": "float64",
         "type": "float"
        },
        {
         "name": "affordability_label",
         "rawType": "object",
         "type": "string"
        }
       ],
       "ref": "ceaf73da-6d9a-4322-8aca-755e5e3075c8",
       "rows": [
        [
         "11840",
         "Burnaby",
         "1.36",
         "🚫 Unaffordable"
        ],
        [
         "31676",
         "Halifax",
         "0.29",
         "✅ Affordable"
        ],
        [
         "19541",
         "Richmond",
         "1.21",
         "🚫 Unaffordable"
        ],
        [
         "32532",
         "Summerside",
         "0.5",
         "⚠️ At Risk"
        ],
        [
         "19933",
         "Richmond",
         "1.66",
         "🚫 Unaffordable"
        ],
        [
         "11755",
         "North Vancouver",
         "1.61",
         "🚫 Unaffordable"
        ],
        [
         "16066",
         "Richmond",
         "1.28",
         "🚫 Unaffordable"
        ],
        [
         "29818",
         "Youngs Cove",
         "0.25",
         "✅ Affordable"
        ],
        [
         "9354",
         "Chilliwack",
         "0.35",
         "✅ Affordable"
        ],
        [
         "7467",
         "Chilliwack",
         "0.63",
         "⚠️ At Risk"
        ],
        [
         "2283",
         "Burnaby",
         "1.56",
         "🚫 Unaffordable"
        ],
        [
         "32705",
         "New Minas",
         "0.3",
         "✅ Affordable"
        ],
        [
         "11689",
         "Vancouver",
         "0.5",
         "✅ Affordable"
        ],
        [
         "33697",
         "St. John's",
         "0.25",
         "✅ Affordable"
        ],
        [
         "23641",
         "Victoria",
         "0.52",
         "⚠️ At Risk"
        ],
        [
         "37402",
         "Sault Ste. Marie",
         "0.38",
         "✅ Affordable"
        ],
        [
         "27535",
         "Kipabiskau Lake",
         "0.41",
         "✅ Affordable"
        ],
        [
         "20025",
         "Richmond",
         "3.34",
         "🚫 Unaffordable"
        ],
        [
         "21974",
         "Kelowna",
         "1.15",
         "🚫 Unaffordable"
        ],
        [
         "5276",
         "Calgary",
         "0.23",
         "✅ Affordable"
        ],
        [
         "19760",
         "Delta",
         "0.45",
         "✅ Affordable"
        ],
        [
         "6568",
         "Lethbridge",
         "0.66",
         "⚠️ At Risk"
        ],
        [
         "8555",
         "Abbotsford",
         "1.48",
         "🚫 Unaffordable"
        ],
        [
         "8582",
         "Abbotsford",
         "1.07",
         "🚫 Unaffordable"
        ],
        [
         "120",
         "Nelson",
         "0.23",
         "✅ Affordable"
        ],
        [
         "40414",
         "Cambridge",
         "0.62",
         "⚠️ At Risk"
        ],
        [
         "8577",
         "Abbotsford",
         "2.42",
         "🚫 Unaffordable"
        ],
        [
         "32092",
         "Stratford",
         "0.61",
         "⚠️ At Risk"
        ],
        [
         "14744",
         "Vancouver",
         "0.76",
         "⚠️ At Risk"
        ],
        [
         "32186",
         "Crocker Hill",
         "0.27",
         "✅ Affordable"
        ],
        [
         "8484",
         "Abbotsford",
         "0.41",
         "✅ Affordable"
        ],
        [
         "25591",
         "Vancouver",
         "1.56",
         "🚫 Unaffordable"
        ],
        [
         "20612",
         "Surrey",
         "0.57",
         "⚠️ At Risk"
        ],
        [
         "17307",
         "Pitt Meadows",
         "3.39",
         "🚫 Unaffordable"
        ],
        [
         "31185",
         "Riverview",
         "0.33",
         "✅ Affordable"
        ],
        [
         "19951",
         "Richmond",
         "0.28",
         "✅ Affordable"
        ],
        [
         "8095",
         "Abbotsford",
         "1.02",
         "🚫 Unaffordable"
        ],
        [
         "14060",
         "Burnaby",
         "0.49",
         "✅ Affordable"
        ],
        [
         "27084",
         "Estevan",
         "0.14",
         "✅ Affordable"
        ],
        [
         "30612",
         "Saint John",
         "0.11",
         "✅ Affordable"
        ],
        [
         "12060",
         "Surrey",
         "2.14",
         "🚫 Unaffordable"
        ],
        [
         "29589",
         "Bowmanville",
         "0.95",
         "🚫 Unaffordable"
        ],
        [
         "26647",
         "Saskatoon",
         "0.24",
         "✅ Affordable"
        ],
        [
         "29771",
         "Halifax",
         "0.37",
         "✅ Affordable"
        ],
        [
         "30569",
         "Labelle",
         "0.34",
         "✅ Affordable"
        ],
        [
         "4176",
         "Naramata",
         "0.78",
         "⚠️ At Risk"
        ],
        [
         "1727",
         "Burnaby",
         "0.96",
         "🚫 Unaffordable"
        ],
        [
         "34928",
         "Lewisporte",
         "0.19",
         "✅ Affordable"
        ],
        [
         "13786",
         "Vancouver",
         "0.31",
         "✅ Affordable"
        ],
        [
         "7665",
         "Surrey",
         "1.34",
         "🚫 Unaffordable"
        ]
       ],
       "shape": {
        "columns": 3,
        "rows": 50
       }
      },
      "text/html": [
       "<div>\n",
       "<style scoped>\n",
       "    .dataframe tbody tr th:only-of-type {\n",
       "        vertical-align: middle;\n",
       "    }\n",
       "\n",
       "    .dataframe tbody tr th {\n",
       "        vertical-align: top;\n",
       "    }\n",
       "\n",
       "    .dataframe thead th {\n",
       "        text-align: right;\n",
       "    }\n",
       "</style>\n",
       "<table border=\"1\" class=\"dataframe\">\n",
       "  <thead>\n",
       "    <tr style=\"text-align: right;\">\n",
       "      <th></th>\n",
       "      <th>City</th>\n",
       "      <th>affordability_score</th>\n",
       "      <th>affordability_label</th>\n",
       "    </tr>\n",
       "  </thead>\n",
       "  <tbody>\n",
       "    <tr>\n",
       "      <th>11840</th>\n",
       "      <td>Burnaby</td>\n",
       "      <td>1.36</td>\n",
       "      <td>🚫 Unaffordable</td>\n",
       "    </tr>\n",
       "    <tr>\n",
       "      <th>31676</th>\n",
       "      <td>Halifax</td>\n",
       "      <td>0.29</td>\n",
       "      <td>✅ Affordable</td>\n",
       "    </tr>\n",
       "    <tr>\n",
       "      <th>19541</th>\n",
       "      <td>Richmond</td>\n",
       "      <td>1.21</td>\n",
       "      <td>🚫 Unaffordable</td>\n",
       "    </tr>\n",
       "    <tr>\n",
       "      <th>32532</th>\n",
       "      <td>Summerside</td>\n",
       "      <td>0.50</td>\n",
       "      <td>⚠️ At Risk</td>\n",
       "    </tr>\n",
       "    <tr>\n",
       "      <th>19933</th>\n",
       "      <td>Richmond</td>\n",
       "      <td>1.66</td>\n",
       "      <td>🚫 Unaffordable</td>\n",
       "    </tr>\n",
       "    <tr>\n",
       "      <th>11755</th>\n",
       "      <td>North Vancouver</td>\n",
       "      <td>1.61</td>\n",
       "      <td>🚫 Unaffordable</td>\n",
       "    </tr>\n",
       "    <tr>\n",
       "      <th>16066</th>\n",
       "      <td>Richmond</td>\n",
       "      <td>1.28</td>\n",
       "      <td>🚫 Unaffordable</td>\n",
       "    </tr>\n",
       "    <tr>\n",
       "      <th>29818</th>\n",
       "      <td>Youngs Cove</td>\n",
       "      <td>0.25</td>\n",
       "      <td>✅ Affordable</td>\n",
       "    </tr>\n",
       "    <tr>\n",
       "      <th>9354</th>\n",
       "      <td>Chilliwack</td>\n",
       "      <td>0.35</td>\n",
       "      <td>✅ Affordable</td>\n",
       "    </tr>\n",
       "    <tr>\n",
       "      <th>7467</th>\n",
       "      <td>Chilliwack</td>\n",
       "      <td>0.63</td>\n",
       "      <td>⚠️ At Risk</td>\n",
       "    </tr>\n",
       "    <tr>\n",
       "      <th>2283</th>\n",
       "      <td>Burnaby</td>\n",
       "      <td>1.56</td>\n",
       "      <td>🚫 Unaffordable</td>\n",
       "    </tr>\n",
       "    <tr>\n",
       "      <th>32705</th>\n",
       "      <td>New Minas</td>\n",
       "      <td>0.30</td>\n",
       "      <td>✅ Affordable</td>\n",
       "    </tr>\n",
       "    <tr>\n",
       "      <th>11689</th>\n",
       "      <td>Vancouver</td>\n",
       "      <td>0.50</td>\n",
       "      <td>✅ Affordable</td>\n",
       "    </tr>\n",
       "    <tr>\n",
       "      <th>33697</th>\n",
       "      <td>St. John's</td>\n",
       "      <td>0.25</td>\n",
       "      <td>✅ Affordable</td>\n",
       "    </tr>\n",
       "    <tr>\n",
       "      <th>23641</th>\n",
       "      <td>Victoria</td>\n",
       "      <td>0.52</td>\n",
       "      <td>⚠️ At Risk</td>\n",
       "    </tr>\n",
       "    <tr>\n",
       "      <th>37402</th>\n",
       "      <td>Sault Ste. Marie</td>\n",
       "      <td>0.38</td>\n",
       "      <td>✅ Affordable</td>\n",
       "    </tr>\n",
       "    <tr>\n",
       "      <th>27535</th>\n",
       "      <td>Kipabiskau Lake</td>\n",
       "      <td>0.41</td>\n",
       "      <td>✅ Affordable</td>\n",
       "    </tr>\n",
       "    <tr>\n",
       "      <th>20025</th>\n",
       "      <td>Richmond</td>\n",
       "      <td>3.34</td>\n",
       "      <td>🚫 Unaffordable</td>\n",
       "    </tr>\n",
       "    <tr>\n",
       "      <th>21974</th>\n",
       "      <td>Kelowna</td>\n",
       "      <td>1.15</td>\n",
       "      <td>🚫 Unaffordable</td>\n",
       "    </tr>\n",
       "    <tr>\n",
       "      <th>5276</th>\n",
       "      <td>Calgary</td>\n",
       "      <td>0.23</td>\n",
       "      <td>✅ Affordable</td>\n",
       "    </tr>\n",
       "    <tr>\n",
       "      <th>19760</th>\n",
       "      <td>Delta</td>\n",
       "      <td>0.45</td>\n",
       "      <td>✅ Affordable</td>\n",
       "    </tr>\n",
       "    <tr>\n",
       "      <th>6568</th>\n",
       "      <td>Lethbridge</td>\n",
       "      <td>0.66</td>\n",
       "      <td>⚠️ At Risk</td>\n",
       "    </tr>\n",
       "    <tr>\n",
       "      <th>8555</th>\n",
       "      <td>Abbotsford</td>\n",
       "      <td>1.48</td>\n",
       "      <td>🚫 Unaffordable</td>\n",
       "    </tr>\n",
       "    <tr>\n",
       "      <th>8582</th>\n",
       "      <td>Abbotsford</td>\n",
       "      <td>1.07</td>\n",
       "      <td>🚫 Unaffordable</td>\n",
       "    </tr>\n",
       "    <tr>\n",
       "      <th>120</th>\n",
       "      <td>Nelson</td>\n",
       "      <td>0.23</td>\n",
       "      <td>✅ Affordable</td>\n",
       "    </tr>\n",
       "    <tr>\n",
       "      <th>40414</th>\n",
       "      <td>Cambridge</td>\n",
       "      <td>0.62</td>\n",
       "      <td>⚠️ At Risk</td>\n",
       "    </tr>\n",
       "    <tr>\n",
       "      <th>8577</th>\n",
       "      <td>Abbotsford</td>\n",
       "      <td>2.42</td>\n",
       "      <td>🚫 Unaffordable</td>\n",
       "    </tr>\n",
       "    <tr>\n",
       "      <th>32092</th>\n",
       "      <td>Stratford</td>\n",
       "      <td>0.61</td>\n",
       "      <td>⚠️ At Risk</td>\n",
       "    </tr>\n",
       "    <tr>\n",
       "      <th>14744</th>\n",
       "      <td>Vancouver</td>\n",
       "      <td>0.76</td>\n",
       "      <td>⚠️ At Risk</td>\n",
       "    </tr>\n",
       "    <tr>\n",
       "      <th>32186</th>\n",
       "      <td>Crocker Hill</td>\n",
       "      <td>0.27</td>\n",
       "      <td>✅ Affordable</td>\n",
       "    </tr>\n",
       "    <tr>\n",
       "      <th>8484</th>\n",
       "      <td>Abbotsford</td>\n",
       "      <td>0.41</td>\n",
       "      <td>✅ Affordable</td>\n",
       "    </tr>\n",
       "    <tr>\n",
       "      <th>25591</th>\n",
       "      <td>Vancouver</td>\n",
       "      <td>1.56</td>\n",
       "      <td>🚫 Unaffordable</td>\n",
       "    </tr>\n",
       "    <tr>\n",
       "      <th>20612</th>\n",
       "      <td>Surrey</td>\n",
       "      <td>0.57</td>\n",
       "      <td>⚠️ At Risk</td>\n",
       "    </tr>\n",
       "    <tr>\n",
       "      <th>17307</th>\n",
       "      <td>Pitt Meadows</td>\n",
       "      <td>3.39</td>\n",
       "      <td>🚫 Unaffordable</td>\n",
       "    </tr>\n",
       "    <tr>\n",
       "      <th>31185</th>\n",
       "      <td>Riverview</td>\n",
       "      <td>0.33</td>\n",
       "      <td>✅ Affordable</td>\n",
       "    </tr>\n",
       "    <tr>\n",
       "      <th>19951</th>\n",
       "      <td>Richmond</td>\n",
       "      <td>0.28</td>\n",
       "      <td>✅ Affordable</td>\n",
       "    </tr>\n",
       "    <tr>\n",
       "      <th>8095</th>\n",
       "      <td>Abbotsford</td>\n",
       "      <td>1.02</td>\n",
       "      <td>🚫 Unaffordable</td>\n",
       "    </tr>\n",
       "    <tr>\n",
       "      <th>14060</th>\n",
       "      <td>Burnaby</td>\n",
       "      <td>0.49</td>\n",
       "      <td>✅ Affordable</td>\n",
       "    </tr>\n",
       "    <tr>\n",
       "      <th>27084</th>\n",
       "      <td>Estevan</td>\n",
       "      <td>0.14</td>\n",
       "      <td>✅ Affordable</td>\n",
       "    </tr>\n",
       "    <tr>\n",
       "      <th>30612</th>\n",
       "      <td>Saint John</td>\n",
       "      <td>0.11</td>\n",
       "      <td>✅ Affordable</td>\n",
       "    </tr>\n",
       "    <tr>\n",
       "      <th>12060</th>\n",
       "      <td>Surrey</td>\n",
       "      <td>2.14</td>\n",
       "      <td>🚫 Unaffordable</td>\n",
       "    </tr>\n",
       "    <tr>\n",
       "      <th>29589</th>\n",
       "      <td>Bowmanville</td>\n",
       "      <td>0.95</td>\n",
       "      <td>🚫 Unaffordable</td>\n",
       "    </tr>\n",
       "    <tr>\n",
       "      <th>26647</th>\n",
       "      <td>Saskatoon</td>\n",
       "      <td>0.24</td>\n",
       "      <td>✅ Affordable</td>\n",
       "    </tr>\n",
       "    <tr>\n",
       "      <th>29771</th>\n",
       "      <td>Halifax</td>\n",
       "      <td>0.37</td>\n",
       "      <td>✅ Affordable</td>\n",
       "    </tr>\n",
       "    <tr>\n",
       "      <th>30569</th>\n",
       "      <td>Labelle</td>\n",
       "      <td>0.34</td>\n",
       "      <td>✅ Affordable</td>\n",
       "    </tr>\n",
       "    <tr>\n",
       "      <th>4176</th>\n",
       "      <td>Naramata</td>\n",
       "      <td>0.78</td>\n",
       "      <td>⚠️ At Risk</td>\n",
       "    </tr>\n",
       "    <tr>\n",
       "      <th>1727</th>\n",
       "      <td>Burnaby</td>\n",
       "      <td>0.96</td>\n",
       "      <td>🚫 Unaffordable</td>\n",
       "    </tr>\n",
       "    <tr>\n",
       "      <th>34928</th>\n",
       "      <td>Lewisporte</td>\n",
       "      <td>0.19</td>\n",
       "      <td>✅ Affordable</td>\n",
       "    </tr>\n",
       "    <tr>\n",
       "      <th>13786</th>\n",
       "      <td>Vancouver</td>\n",
       "      <td>0.31</td>\n",
       "      <td>✅ Affordable</td>\n",
       "    </tr>\n",
       "    <tr>\n",
       "      <th>7665</th>\n",
       "      <td>Surrey</td>\n",
       "      <td>1.34</td>\n",
       "      <td>🚫 Unaffordable</td>\n",
       "    </tr>\n",
       "  </tbody>\n",
       "</table>\n",
       "</div>"
      ],
      "text/plain": [
       "                   City  affordability_score affordability_label\n",
       "11840           Burnaby                 1.36      🚫 Unaffordable\n",
       "31676           Halifax                 0.29        ✅ Affordable\n",
       "19541          Richmond                 1.21      🚫 Unaffordable\n",
       "32532        Summerside                 0.50          ⚠️ At Risk\n",
       "19933          Richmond                 1.66      🚫 Unaffordable\n",
       "11755   North Vancouver                 1.61      🚫 Unaffordable\n",
       "16066          Richmond                 1.28      🚫 Unaffordable\n",
       "29818       Youngs Cove                 0.25        ✅ Affordable\n",
       "9354         Chilliwack                 0.35        ✅ Affordable\n",
       "7467         Chilliwack                 0.63          ⚠️ At Risk\n",
       "2283            Burnaby                 1.56      🚫 Unaffordable\n",
       "32705         New Minas                 0.30        ✅ Affordable\n",
       "11689         Vancouver                 0.50        ✅ Affordable\n",
       "33697        St. John's                 0.25        ✅ Affordable\n",
       "23641          Victoria                 0.52          ⚠️ At Risk\n",
       "37402  Sault Ste. Marie                 0.38        ✅ Affordable\n",
       "27535   Kipabiskau Lake                 0.41        ✅ Affordable\n",
       "20025          Richmond                 3.34      🚫 Unaffordable\n",
       "21974           Kelowna                 1.15      🚫 Unaffordable\n",
       "5276            Calgary                 0.23        ✅ Affordable\n",
       "19760             Delta                 0.45        ✅ Affordable\n",
       "6568         Lethbridge                 0.66          ⚠️ At Risk\n",
       "8555         Abbotsford                 1.48      🚫 Unaffordable\n",
       "8582         Abbotsford                 1.07      🚫 Unaffordable\n",
       "120              Nelson                 0.23        ✅ Affordable\n",
       "40414         Cambridge                 0.62          ⚠️ At Risk\n",
       "8577         Abbotsford                 2.42      🚫 Unaffordable\n",
       "32092         Stratford                 0.61          ⚠️ At Risk\n",
       "14744         Vancouver                 0.76          ⚠️ At Risk\n",
       "32186      Crocker Hill                 0.27        ✅ Affordable\n",
       "8484         Abbotsford                 0.41        ✅ Affordable\n",
       "25591         Vancouver                 1.56      🚫 Unaffordable\n",
       "20612            Surrey                 0.57          ⚠️ At Risk\n",
       "17307      Pitt Meadows                 3.39      🚫 Unaffordable\n",
       "31185         Riverview                 0.33        ✅ Affordable\n",
       "19951          Richmond                 0.28        ✅ Affordable\n",
       "8095         Abbotsford                 1.02      🚫 Unaffordable\n",
       "14060           Burnaby                 0.49        ✅ Affordable\n",
       "27084           Estevan                 0.14        ✅ Affordable\n",
       "30612        Saint John                 0.11        ✅ Affordable\n",
       "12060            Surrey                 2.14      🚫 Unaffordable\n",
       "29589       Bowmanville                 0.95      🚫 Unaffordable\n",
       "26647         Saskatoon                 0.24        ✅ Affordable\n",
       "29771           Halifax                 0.37        ✅ Affordable\n",
       "30569           Labelle                 0.34        ✅ Affordable\n",
       "4176           Naramata                 0.78          ⚠️ At Risk\n",
       "1727            Burnaby                 0.96      🚫 Unaffordable\n",
       "34928        Lewisporte                 0.19        ✅ Affordable\n",
       "13786         Vancouver                 0.31        ✅ Affordable\n",
       "7665             Surrey                 1.34      🚫 Unaffordable"
      ]
     },
     "execution_count": 17,
     "metadata": {},
     "output_type": "execute_result"
    }
   ],
   "source": [
    "median_income = {\n",
    "    \"Toronto\": 100000,\n",
    "    \"Vancouver\": 88000,\n",
    "    \"Montreal\": 82000,\n",
    "    \"Ottawa\": 95000,\n",
    "    \"Calgary\": 97000\n",
    "}\n",
    "\n",
    "# Corrected function to work with arrays\n",
    "def calculate_affordability_vector(pred_prices, cities, interest_rate=0.05, years=25):\n",
    "    scores = []\n",
    "    labels = []\n",
    "    \n",
    "    for price, city in zip(pred_prices, cities):\n",
    "        income = median_income.get(city, 90000)\n",
    "        annual_payment = (price * interest_rate) / (1 - (1 + interest_rate) ** (-years))\n",
    "        score = annual_payment / income\n",
    "        \n",
    "        if score < 0.5:\n",
    "            label = \"✅ Affordable\"\n",
    "        elif score < 0.8:\n",
    "            label = \"⚠️ At Risk\"\n",
    "        else:\n",
    "            label = \"🚫 Unaffordable\"\n",
    "        \n",
    "        scores.append(round(score, 2))\n",
    "        labels.append(label)\n",
    "    \n",
    "    return scores, labels\n",
    "\n",
    "\n",
    "# Apply to validation set\n",
    "val_df_copy = X_val.copy()\n",
    "scores, labels = calculate_affordability_vector(y_pred_val, X_val['City'])\n",
    "val_df_copy['affordability_score'] = scores\n",
    "val_df_copy['affordability_label'] = labels\n",
    "\n",
    "# Show results\n",
    "val_df_copy[['City','affordability_score','affordability_label']].head(50)\n",
    "\n"
   ]
  },
  {
   "cell_type": "code",
   "execution_count": 34,
   "id": "891dfffe",
   "metadata": {},
   "outputs": [
    {
     "name": "stdout",
     "output_type": "stream",
     "text": [
      "Random Sample from Coquitlam, BC\n",
      "Predicted Price: $1,230,172\n",
      "Affordability Score: 0.97 → 🚫 Unaffordable\n"
     ]
    }
   ],
   "source": [
    "# Take a random sample from the test set (different each run)\n",
    "sample = test_df.sample(1).iloc[0]\n",
    "X_sample = pd.DataFrame([sample[features]])\n",
    "pred_price = model.predict(X_sample)[0]\n",
    "\n",
    "# Compute affordability\n",
    "score, label = calculate_affordability_vector([pred_price], [sample['City']])\n",
    "score = score[0]\n",
    "label = label[0]\n",
    "\n",
    "print(f\"Random Sample from {sample['City']}, {sample['Province']}\")\n",
    "print(f\"Predicted Price: ${pred_price:,.0f}\")\n",
    "print(f\"Affordability Score: {score} → {label}\")\n"
   ]
  },
  {
   "cell_type": "markdown",
   "id": "8eae3edc",
   "metadata": {},
   "source": [
    "## Model Testing and Visualization"
   ]
  },
  {
   "cell_type": "code",
   "execution_count": 35,
   "id": "96329442",
   "metadata": {},
   "outputs": [
    {
     "name": "stdout",
     "output_type": "stream",
     "text": [
      "Test MAE: 233629.75, RMSE: 726227.08, R²: 0.77\n"
     ]
    },
    {
     "data": {
      "image/png": "[encoded data removed]",
      "text/plain": [
       "<Figure size 600x600 with 1 Axes>"
      ]
     },
     "metadata": {},
     "output_type": "display_data"
    }
   ],
   "source": [
    "# Predict on test set\n",
    "y_pred_test = model.predict(X_test)\n",
    "\n",
    "# Metrics\n",
    "mae_test = mean_absolute_error(y_test, y_pred_test)\n",
    "rmse_test = np.sqrt(mean_squared_error(y_test, y_pred_test))\n",
    "r2_test = r2_score(y_test, y_pred_test)\n",
    "\n",
    "print(f\"Test MAE: {mae_test:.2f}, RMSE: {rmse_test:.2f}, R²: {r2_test:.2f}\")\n",
    "\n",
    "# Plot predicted vs actual\n",
    "plt.figure(figsize=(6,6))\n",
    "sns.scatterplot(x=y_test, y=y_pred_test)\n",
    "plt.xlabel(\"Actual Price\")\n",
    "plt.ylabel(\"Predicted Price\")\n",
    "plt.title(\"Predicted vs Actual Prices\")\n",
    "plt.show()\n"
   ]
  },
  {
   "cell_type": "markdown",
   "id": "7c035326",
   "metadata": {},
   "source": [
    "## Summary and Next Steps"
   ]
  },
  {
   "cell_type": "markdown",
   "id": "a8ad7637",
   "metadata": {},
   "source": [
    "**Summary:**  \n",
    "- Built a Random Forest–based housing price predictor.  \n",
    "- Used EDA and feature engineering for improved accuracy.  \n",
    "- Developed affordability scoring for practical decision-making.  \n",
    "\n",
    "**Next Steps:**  \n",
    "- Tune hyperparameters (GridSearchCV or Optuna).  \n",
    "- Add geospatial analysis (GeoPandas).  \n",
    "- Prepare comparison prototype using Generative AI tools.\n"
   ]
  }
 ],
 "metadata": {
  "kernelspec": {
   "display_name": "Python 3",
   "language": "python",
   "name": "python3"
  },
  "language_info": {
   "codemirror_mode": {
    "name": "ipython",
    "version": 3
   },
   "file_extension": ".py",
   "mimetype": "text/x-python",
   "name": "python",
   "nbconvert_exporter": "python",
   "pygments_lexer": "ipython3",
   "version": "3.12.3"
  }
 },
 "nbformat": 4,
 "nbformat_minor": 5
}
